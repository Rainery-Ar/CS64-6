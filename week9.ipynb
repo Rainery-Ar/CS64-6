{
  "nbformat": 4,
  "nbformat_minor": 0,
  "metadata": {
    "colab": {
      "provenance": [],
      "authorship_tag": "ABX9TyOR7Zk6OcthzAGPt3tanhch",
      "include_colab_link": true
    },
    "kernelspec": {
      "name": "python3",
      "display_name": "Python 3"
    },
    "language_info": {
      "name": "python"
    }
  },
  "cells": [
    {
      "cell_type": "markdown",
      "metadata": {
        "id": "view-in-github",
        "colab_type": "text"
      },
      "source": [
        "<a href=\"https://colab.research.google.com/github/Rainery-Ar/CS64-6/blob/main/week9.ipynb\" target=\"_parent\"><img src=\"https://colab.research.google.com/assets/colab-badge.svg\" alt=\"Open In Colab\"/></a>"
      ]
    },
    {
      "cell_type": "code",
      "source": [
        "# fl_lora_svd_broadcast_mnist_optimized.py\n",
        "# Federated Learning with Heterogeneous Rank-Adaptive SVD Broadcast\n",
        "# Optimized implementation aligned with manuscript design\n",
        "\n",
        "import random\n",
        "from dataclasses import dataclass\n",
        "from typing import Dict, List, Tuple, Optional\n",
        "\n",
        "import numpy as np\n",
        "import torch\n",
        "import torch.nn as nn\n",
        "import torch.nn.functional as F\n",
        "from torch.utils.data import DataLoader, Subset, Dataset\n",
        "from torchvision import datasets, transforms\n",
        "from tqdm import tqdm\n",
        "import matplotlib.pyplot as plt\n",
        "\n",
        "\n",
        "# --------------------------- Reproducibility ---------------------------\n",
        "\n",
        "def set_seed(seed: int = 0):\n",
        "    \"\"\"Set random seeds for reproducibility.\"\"\"\n",
        "    random.seed(seed)\n",
        "    np.random.seed(seed)\n",
        "    torch.manual_seed(seed)\n",
        "    torch.cuda.manual_seed_all(seed)\n",
        "    torch.backends.cudnn.deterministic = True\n",
        "    torch.backends.cudnn.benchmark = False\n",
        "\n",
        "\n",
        "# --------------------------- Simple MLP for MNIST ---------------------------\n",
        "\n",
        "class MLP(nn.Module):\n",
        "    \"\"\"\n",
        "    Simple MLP for MNIST.\n",
        "    LoRA delta is applied to fc1.weight (256 x 784 matrix).\n",
        "    \"\"\"\n",
        "    def __init__(self, in_dim=28*28, hidden=256, out_dim=10):\n",
        "        super().__init__()\n",
        "        self.fc1 = nn.Linear(in_dim, hidden, bias=True)\n",
        "        self.fc2 = nn.Linear(hidden, out_dim, bias=True)\n",
        "\n",
        "    def forward(self, x, lora_delta: Optional[torch.Tensor] = None):\n",
        "        \"\"\"\n",
        "        Forward pass with optional LoRA delta.\n",
        "\n",
        "        Args:\n",
        "            x: Input tensor [batch, 28, 28]\n",
        "            lora_delta: Optional LoRA delta to add to fc1.weight\n",
        "        \"\"\"\n",
        "        x = x.view(x.size(0), -1)\n",
        "        w1 = self.fc1.weight\n",
        "        if lora_delta is not None:\n",
        "            w1 = w1 + lora_delta\n",
        "        x = F.relu(F.linear(x, w1, self.fc1.bias))\n",
        "        x = self.fc2(x)\n",
        "        return x\n",
        "\n",
        "\n",
        "# --------------------------- LoRA helper ---------------------------\n",
        "\n",
        "@dataclass\n",
        "class LoRAWeight:\n",
        "    \"\"\"LoRA decomposition: W ≈ A @ B\"\"\"\n",
        "    A: torch.Tensor  # [out, r]\n",
        "    B: torch.Tensor  # [r, in_]\n",
        "\n",
        "    def to_delta(self) -> torch.Tensor:\n",
        "        \"\"\"Reconstruct full delta from A and B.\"\"\"\n",
        "        return self.A @ self.B\n",
        "\n",
        "    @staticmethod\n",
        "    def from_rank(delta: torch.Tensor, rank: int) -> \"LoRAWeight\":\n",
        "        \"\"\"\n",
        "        Decompose delta into rank-r LoRA using SVD.\n",
        "\n",
        "        Args:\n",
        "            delta: Full delta matrix [out, in_]\n",
        "            rank: Target rank for decomposition\n",
        "\n",
        "        Returns:\n",
        "            LoRAWeight with A and B matrices\n",
        "        \"\"\"\n",
        "        U, S, Vh = torch.linalg.svd(delta, full_matrices=False)\n",
        "        r = min(rank, min(U.size(1), Vh.size(0), S.size(0)))\n",
        "        Ur, Sr, Vhr = U[:, :r], S[:r], Vh[:r, :]\n",
        "        sqrtS = torch.sqrt(Sr)\n",
        "        A = Ur * sqrtS.unsqueeze(0)\n",
        "        B = (sqrtS.unsqueeze(1) * Vhr)\n",
        "        return LoRAWeight(A.contiguous(), B.contiguous())\n",
        "\n",
        "\n",
        "# --------------------------- Dirichlet non-IID split ---------------------------\n",
        "\n",
        "def dirichlet_split_indices(\n",
        "    labels: np.ndarray,\n",
        "    num_clients: int,\n",
        "    alpha: float = 0.2,\n",
        "    seed: int = 0,\n",
        "    min_size_per_client: int = 10\n",
        ") -> List[List[int]]:\n",
        "    \"\"\"\n",
        "    Split data indices using Dirichlet distribution for label skew.\n",
        "\n",
        "    Args:\n",
        "        labels: Array of labels for all samples\n",
        "        num_clients: Number of clients\n",
        "        alpha: Dirichlet concentration parameter (smaller = more skewed)\n",
        "        seed: Random seed\n",
        "        min_size_per_client: Minimum samples per client\n",
        "\n",
        "    Returns:\n",
        "        List of index lists for each client\n",
        "    \"\"\"\n",
        "    rng = np.random.default_rng(seed)\n",
        "    n_classes = int(labels.max()) + 1\n",
        "    all_indices = [np.where(labels == c)[0] for c in range(n_classes)]\n",
        "    for c in range(n_classes):\n",
        "        rng.shuffle(all_indices[c])\n",
        "\n",
        "    # Retry until all clients have minimum samples\n",
        "    while True:\n",
        "        client_indices = [[] for _ in range(num_clients)]\n",
        "        for c in range(n_classes):\n",
        "            idx_c = all_indices[c]\n",
        "            n_c = len(idx_c)\n",
        "            p = rng.dirichlet(alpha * np.ones(num_clients))\n",
        "            counts = (np.floor(p * n_c)).astype(int)\n",
        "\n",
        "            # Distribute remaining samples\n",
        "            while counts.sum() < n_c:\n",
        "                counts[rng.integers(0, num_clients)] += 1\n",
        "            while counts.sum() > n_c:\n",
        "                j = rng.integers(0, num_clients)\n",
        "                if counts[j] > 0:\n",
        "                    counts[j] -= 1\n",
        "\n",
        "            # Assign indices to clients\n",
        "            start = 0\n",
        "            for k in range(num_clients):\n",
        "                cnt = counts[k]\n",
        "                if cnt > 0:\n",
        "                    client_indices[k].extend(idx_c[start:start+cnt].tolist())\n",
        "                    start += cnt\n",
        "\n",
        "        sizes = [len(ci) for ci in client_indices]\n",
        "        if min(sizes) >= min_size_per_client:\n",
        "            for k in range(num_clients):\n",
        "                rng.shuffle(client_indices[k])\n",
        "            return client_indices\n",
        "\n",
        "\n",
        "# --------------------------- Client ---------------------------\n",
        "\n",
        "class Client:\n",
        "    \"\"\"\n",
        "    Federated Learning Client with personalized LoRA rank.\n",
        "    \"\"\"\n",
        "    def __init__(self, cid: int, dataset: Dataset, indices: List[int],\n",
        "                 base_model: MLP, lora_rank: int, device=\"cpu\"):\n",
        "        self.cid = cid\n",
        "        self.device = device\n",
        "        self.rank = lora_rank\n",
        "        self.model = base_model\n",
        "\n",
        "        # Initialize local delta\n",
        "        self.delta = torch.zeros_like(self.model.fc1.weight, device=device)\n",
        "\n",
        "        # Data loader\n",
        "        self.loader = DataLoader(\n",
        "            Subset(dataset, indices),\n",
        "            batch_size=64,\n",
        "            shuffle=True,\n",
        "            num_workers=0,\n",
        "            drop_last=False\n",
        "        )\n",
        "        self.sample_num = len(indices)\n",
        "\n",
        "        # Statistics\n",
        "        self.history = {\n",
        "            \"loss\": [],\n",
        "            \"acc\": [],\n",
        "            \"rounds_participated\": 0\n",
        "        }\n",
        "\n",
        "    def local_train(self, received_delta: torch.Tensor, epochs: int = 1,\n",
        "                   lr: float = 0.01) -> Tuple[torch.Tensor, Dict]:\n",
        "        \"\"\"\n",
        "        Local training with received global delta.\n",
        "\n",
        "        Args:\n",
        "            received_delta: Global delta broadcasted from server (rank-adapted)\n",
        "            epochs: Number of local epochs\n",
        "            lr: Learning rate\n",
        "\n",
        "        Returns:\n",
        "            Tuple of (updated_delta, training_statistics)\n",
        "        \"\"\"\n",
        "        # Initialize from received delta\n",
        "        self.delta = received_delta.detach().clone().to(self.device)\n",
        "        delta_param = nn.Parameter(self.delta)\n",
        "        optimizer = torch.optim.SGD([delta_param], lr=lr, momentum=0.0, weight_decay=1e-4)\n",
        "\n",
        "        self.model.to(self.device).train()\n",
        "        total_loss = 0.0\n",
        "        correct = 0\n",
        "        total = 0\n",
        "\n",
        "        for _ in range(epochs):\n",
        "            for x, y in self.loader:\n",
        "                x = x.to(self.device)\n",
        "                y = y.to(self.device)\n",
        "\n",
        "                optimizer.zero_grad()\n",
        "                logits = self.model(x, lora_delta=delta_param)\n",
        "                loss = F.cross_entropy(logits, y)\n",
        "                loss.backward()\n",
        "                optimizer.step()\n",
        "\n",
        "                total_loss += loss.item() * x.size(0)\n",
        "                pred = logits.argmax(dim=1)\n",
        "                correct += (pred == y).sum().item()\n",
        "                total += x.size(0)\n",
        "\n",
        "        self.delta = delta_param.detach()\n",
        "        avg_loss = total_loss / max(total, 1)\n",
        "        train_acc = correct / max(total, 1)\n",
        "\n",
        "        # Update history\n",
        "        self.history[\"loss\"].append(avg_loss)\n",
        "        self.history[\"acc\"].append(train_acc)\n",
        "        self.history[\"rounds_participated\"] += 1\n",
        "\n",
        "        train_record = {\n",
        "            \"avg_loss\": avg_loss,\n",
        "            \"train_acc\": train_acc,\n",
        "            \"data_sample_num\": self.sample_num,\n",
        "            \"client_rank\": self.rank,\n",
        "        }\n",
        "\n",
        "        return self.delta.clone(), train_record\n",
        "\n",
        "\n",
        "# --------------------------- Server ---------------------------\n",
        "\n",
        "class Server:\n",
        "    \"\"\"\n",
        "    Federated Learning Server with Heterogeneous Rank-Adaptive SVD Broadcast.\n",
        "    \"\"\"\n",
        "    def __init__(self, base_model: MLP, clients: List[Client],\n",
        "                 device=\"cpu\", ema_decay: float = 0.9):\n",
        "        self.device = device\n",
        "        self.model = base_model.to(device)\n",
        "        self.clients = clients\n",
        "        self.global_delta = torch.zeros_like(self.model.fc1.weight, device=device)\n",
        "        self.ema_decay = ema_decay\n",
        "\n",
        "        # SVD cache for efficiency\n",
        "        self._svd_cache: Optional[Tuple[torch.Tensor, torch.Tensor, torch.Tensor]] = None\n",
        "        self._cache_valid = False\n",
        "\n",
        "        # Statistics\n",
        "        self.stats = {\n",
        "            \"compression_ratios\": [],\n",
        "            \"svd_times\": [],\n",
        "            \"broadcast_sizes\": []\n",
        "        }\n",
        "\n",
        "    def aggregate(self, client_updates: List[Tuple[torch.Tensor, Dict]]):\n",
        "        \"\"\"\n",
        "        Aggregate client updates using weighted averaging.\n",
        "\n",
        "        Args:\n",
        "            client_updates: List of (delta, statistics) from clients\n",
        "        \"\"\"\n",
        "        total = sum(rec[\"data_sample_num\"] for _, rec in client_updates)\n",
        "        if total == 0:\n",
        "            return\n",
        "\n",
        "        agg = torch.zeros_like(self.global_delta, device=self.device)\n",
        "        for delta_k, rec in client_updates:\n",
        "            w = rec[\"data_sample_num\"] / total\n",
        "            agg += w * delta_k.to(self.device)\n",
        "\n",
        "        new_global = agg.detach().clone()\n",
        "\n",
        "        # EMA smoothing: global_delta = β * old + (1-β) * new\n",
        "        self.global_delta = self.ema_decay * self.global_delta + (1.0 - self.ema_decay) * new_global\n",
        "\n",
        "        # Invalidate SVD cache after aggregation\n",
        "        self._cache_valid = False\n",
        "\n",
        "    def svd_broadcast(self, selected: List[Client],\n",
        "                     use_cache: bool = False) -> Dict[int, torch.Tensor]:\n",
        "        \"\"\"\n",
        "        Heterogeneous Rank-Adaptive SVD Broadcast.\n",
        "\n",
        "        Key Innovation:\n",
        "        - Perform SVD once on global delta\n",
        "        - Truncate to each client's personalized rank\n",
        "        - Send compressed low-rank version to each client\n",
        "\n",
        "        Args:\n",
        "            selected: List of selected clients\n",
        "            use_cache: Whether to use cached SVD (if valid)\n",
        "\n",
        "        Returns:\n",
        "            Dictionary mapping client_id to rank-adapted delta\n",
        "        \"\"\"\n",
        "        import time\n",
        "        start_time = time.time()\n",
        "\n",
        "        # Perform SVD (use cache if valid)\n",
        "        if use_cache and self._cache_valid and self._svd_cache is not None:\n",
        "            U, S, Vh = self._svd_cache\n",
        "        else:\n",
        "            # Full SVD on global delta: W = U @ diag(S) @ Vh\n",
        "            U, S, Vh = torch.linalg.svd(self.global_delta, full_matrices=False)\n",
        "            self._svd_cache = (U, S, Vh)\n",
        "            self._cache_valid = True\n",
        "\n",
        "        svd_time = time.time() - start_time\n",
        "        self.stats[\"svd_times\"].append(svd_time)\n",
        "\n",
        "        # Rank-adaptive broadcast\n",
        "        payloads: Dict[int, torch.Tensor] = {}\n",
        "        max_rank = min(U.size(1), S.size(0), Vh.size(0))\n",
        "\n",
        "        total_original_size = 0\n",
        "        total_compressed_size = 0\n",
        "\n",
        "        for c in selected:\n",
        "            # Determine target rank for this client\n",
        "            r = int(c.rank)\n",
        "            r = max(1, min(r, max_rank))  # Clamp to valid range\n",
        "\n",
        "            # Truncate SVD components: W_r = U_r @ diag(S_r) @ V_r^T\n",
        "            Ur = U[:, :r]        # [out_dim, r]\n",
        "            Sr = S[:r]           # [r]\n",
        "            Vhr = Vh[:r, :]      # [r, in_dim]\n",
        "\n",
        "            # Reconstruct rank-r approximation\n",
        "            Wr = Ur @ torch.diag(Sr) @ Vhr\n",
        "            payloads[c.cid] = Wr.detach().clone()\n",
        "\n",
        "            # Compute compression ratio\n",
        "            original_size = self.global_delta.numel()\n",
        "            compressed_size = Ur.numel() + Sr.numel() + Vhr.numel()\n",
        "            total_original_size += original_size\n",
        "            total_compressed_size += compressed_size\n",
        "\n",
        "        # Record statistics\n",
        "        if len(selected) > 0:\n",
        "            avg_compression = total_compressed_size / total_original_size\n",
        "            self.stats[\"compression_ratios\"].append(avg_compression)\n",
        "            self.stats[\"broadcast_sizes\"].append(total_compressed_size)\n",
        "\n",
        "        return payloads\n",
        "\n",
        "    @torch.no_grad()\n",
        "    def evaluate(self, test_loader: DataLoader) -> Dict[str, float]:\n",
        "        \"\"\"\n",
        "        Evaluate global model on test set.\n",
        "\n",
        "        Args:\n",
        "            test_loader: Test data loader\n",
        "\n",
        "        Returns:\n",
        "            Dictionary with test_loss and test_acc\n",
        "        \"\"\"\n",
        "        self.model.eval().to(self.device)\n",
        "        total = 0\n",
        "        correct = 0\n",
        "        loss_sum = 0.0\n",
        "\n",
        "        for x, y in test_loader:\n",
        "            x = x.to(self.device)\n",
        "            y = y.to(self.device)\n",
        "            logits = self.model(x, lora_delta=self.global_delta)\n",
        "            loss = F.cross_entropy(logits, y)\n",
        "            loss_sum += loss.item() * x.size(0)\n",
        "            total += x.size(0)\n",
        "            correct += (logits.argmax(dim=1) == y).sum().item()\n",
        "\n",
        "        return {\n",
        "            \"test_loss\": loss_sum / max(total, 1),\n",
        "            \"test_acc\": correct / max(total, 1)\n",
        "        }\n",
        "\n",
        "    def print_broadcast_stats(self):\n",
        "        \"\"\"Print SVD broadcast statistics.\"\"\"\n",
        "        if self.stats[\"compression_ratios\"]:\n",
        "            avg_ratio = np.mean(self.stats[\"compression_ratios\"])\n",
        "            avg_svd_time = np.mean(self.stats[\"svd_times\"]) * 1000  # ms\n",
        "            print(f\"\\n[SVD Broadcast Stats]\")\n",
        "            print(f\"  Avg Compression Ratio: {avg_ratio:.4f}\")\n",
        "            print(f\"  Avg SVD Time: {avg_svd_time:.2f}ms\")\n",
        "\n",
        "\n",
        "# --------------------------- Data & Stats ---------------------------\n",
        "\n",
        "def load_mnist_dirichlet(\n",
        "    num_clients: int = 10,\n",
        "    alpha: float = 0.2,\n",
        "    seed: int = 0,\n",
        "    min_size_per_client: int = 10,\n",
        "):\n",
        "    \"\"\"Load MNIST with Dirichlet non-IID split.\"\"\"\n",
        "    tfm = transforms.Compose([transforms.ToTensor()])\n",
        "    train_ds = datasets.MNIST(root=\"./data\", train=True, download=True, transform=tfm)\n",
        "    test_ds = datasets.MNIST(root=\"./data\", train=False, download=True, transform=tfm)\n",
        "\n",
        "    labels = np.array(train_ds.targets)\n",
        "    splits = dirichlet_split_indices(\n",
        "        labels=labels,\n",
        "        num_clients=num_clients,\n",
        "        alpha=alpha,\n",
        "        seed=seed,\n",
        "        min_size_per_client=min_size_per_client\n",
        "    )\n",
        "    return train_ds, test_ds, splits\n",
        "\n",
        "\n",
        "def print_split_stats(splits: List[List[int]], labels: np.ndarray):\n",
        "    \"\"\"Print data split statistics for each client.\"\"\"\n",
        "    print(\"\\n[Data Split Statistics]\")\n",
        "    print(\"=\" * 80)\n",
        "    for k, idxs in enumerate(splits):\n",
        "        labs = labels[idxs]\n",
        "        counts = np.bincount(labs, minlength=10)\n",
        "        total = counts.sum()\n",
        "        dist = \", \".join([f\"{i}:{int(counts[i])}\" for i in range(10)])\n",
        "        print(f\"Client {k:02d}: n={total:5d} | Distribution: {dist}\")\n",
        "    print(\"=\" * 80)\n",
        "\n",
        "\n",
        "def moving_average(values: List[float], window: int = 5) -> float:\n",
        "    \"\"\"Compute moving average of last `window` values.\"\"\"\n",
        "    if not values:\n",
        "        return 0.0\n",
        "    w = min(window, len(values))\n",
        "    return float(np.mean(values[-w:]))\n",
        "\n",
        "\n",
        "def ema_series(x: List[float], beta: float = 0.9) -> List[float]:\n",
        "    \"\"\"Compute EMA series for smoothing.\"\"\"\n",
        "    out, m = [], 0.0\n",
        "    for v in x:\n",
        "        m = beta * m + (1 - beta) * v\n",
        "        out.append(m)\n",
        "    return out\n",
        "\n",
        "\n",
        "# --------------------------- Training loop ---------------------------\n",
        "\n",
        "def run_federated(\n",
        "    rounds: int = 60,\n",
        "    local_epochs: int = 1,\n",
        "    num_clients: int = 10,\n",
        "    client_ranks: Optional[List[int]] = None,\n",
        "    seed: int = 0,\n",
        "    alpha: float = 0.2,\n",
        "    participation: float = 0.4,\n",
        "    ema_decay: float = 0.9,\n",
        "    device: str = \"cpu\",\n",
        "):\n",
        "    \"\"\"\n",
        "    Run Federated Learning with Heterogeneous Rank-Adaptive SVD Broadcast.\n",
        "\n",
        "    Args:\n",
        "        rounds: Number of federated rounds\n",
        "        local_epochs: Local training epochs per round\n",
        "        num_clients: Number of clients\n",
        "        client_ranks: List of LoRA ranks for each client (heterogeneous)\n",
        "        seed: Random seed\n",
        "        alpha: Dirichlet concentration parameter\n",
        "        participation: Fraction of clients participating per round\n",
        "        ema_decay: EMA decay factor for global model smoothing\n",
        "        device: Training device\n",
        "    \"\"\"\n",
        "    set_seed(seed)\n",
        "    device = device if torch.cuda.is_available() and device.startswith(\"cuda\") else \"cpu\"\n",
        "\n",
        "    # Load data with non-IID split\n",
        "    train_ds, test_ds, splits = load_mnist_dirichlet(\n",
        "        num_clients=num_clients, alpha=alpha, seed=seed, min_size_per_client=10\n",
        "    )\n",
        "    test_loader = DataLoader(test_ds, batch_size=512, shuffle=False)\n",
        "\n",
        "    # Print data split statistics\n",
        "    print_split_stats(splits, np.array(train_ds.targets))\n",
        "\n",
        "    # Initialize base model\n",
        "    base = MLP().to(device)\n",
        "\n",
        "    # Configure client ranks (heterogeneous)\n",
        "    if client_ranks is None:\n",
        "        client_ranks = [8, 16, 32, 16, 8, 8, 16, 32, 16, 8]\n",
        "    else:\n",
        "        assert len(client_ranks) >= num_clients, \"client_ranks length must match num_clients\"\n",
        "        client_ranks = client_ranks[:num_clients]\n",
        "\n",
        "    # Create clients\n",
        "    clients: List[Client] = []\n",
        "    for cid in range(num_clients):\n",
        "        clients.append(Client(\n",
        "            cid=cid,\n",
        "            dataset=train_ds,\n",
        "            indices=splits[cid],\n",
        "            base_model=base,\n",
        "            lora_rank=client_ranks[cid],\n",
        "            device=device\n",
        "        ))\n",
        "\n",
        "    # Create server\n",
        "    server = Server(base_model=base, clients=clients, device=device, ema_decay=ema_decay)\n",
        "\n",
        "    print(f\"\\n{'='*80}\")\n",
        "    print(f\"Federated Learning with Heterogeneous Rank-Adaptive SVD Broadcast\")\n",
        "    print(f\"{'='*80}\")\n",
        "    print(f\"Dataset: MNIST (Dirichlet non-IID, α={alpha})\")\n",
        "    print(f\"Clients: {num_clients} | Participation: {participation:.0%}\")\n",
        "    print(f\"Rounds: {rounds} | Local Epochs: {local_epochs}\")\n",
        "    print(f\"EMA Decay: {ema_decay}\")\n",
        "    print(f\"Client Ranks: {client_ranks}\")\n",
        "    print(f\"Device: {device}\")\n",
        "    print(f\"{'='*80}\\n\")\n",
        "\n",
        "    # Initial evaluation\n",
        "    metrics = server.evaluate(test_loader)\n",
        "    acc_hist: List[float] = [metrics['test_acc']]\n",
        "    loss_hist: List[float] = [metrics['test_loss']]\n",
        "    print(f\"[Round 0] Initial | Acc: {metrics['test_acc']:.4f} | Loss: {metrics['test_loss']:.4f}\")\n",
        "\n",
        "    # Federated training loop\n",
        "    for r in range(1, rounds + 1):\n",
        "        # Client selection (deterministic based on seed)\n",
        "        rng = np.random.default_rng(seed + r)\n",
        "        k = max(1, int(len(clients) * participation))\n",
        "        selected_ids = rng.choice(len(clients), size=k, replace=False)\n",
        "        selected = [clients[i] for i in selected_ids]\n",
        "\n",
        "        selected_ranks = [clients[i].rank for i in selected_ids]\n",
        "        print(f\"\\n[Round {r}/{rounds}] Selected clients: {sorted(selected_ids.tolist())} | Ranks: {selected_ranks}\")\n",
        "\n",
        "        # SVD-based broadcast to selected clients\n",
        "        payloads = server.svd_broadcast(selected, use_cache=False)\n",
        "\n",
        "        # Local training on selected clients\n",
        "        updates: List[Tuple[torch.Tensor, Dict]] = []\n",
        "        for c in tqdm(selected, desc=f\"Round {r} local training\", leave=False):\n",
        "            upd_delta, rec = c.local_train(payloads[c.cid].to(device), epochs=local_epochs, lr=0.01)\n",
        "            updates.append((upd_delta, rec))\n",
        "\n",
        "        # Aggregate updates with EMA smoothing\n",
        "        server.aggregate(updates)\n",
        "\n",
        "        # Global evaluation\n",
        "        metrics = server.evaluate(test_loader)\n",
        "        acc_hist.append(metrics['test_acc'])\n",
        "        loss_hist.append(metrics['test_loss'])\n",
        "\n",
        "        smoothed = moving_average(acc_hist, window=5)\n",
        "        print(f\"[Round {r}/{rounds}] Acc: {metrics['test_acc']:.4f} (MA@5: {smoothed:.4f}) | Loss: {metrics['test_loss']:.4f}\")\n",
        "\n",
        "    # Print final statistics\n",
        "    server.print_broadcast_stats()\n",
        "\n",
        "    # Visualization\n",
        "    rounds_axis = list(range(len(acc_hist)))\n",
        "    acc_ma5_series = [moving_average(acc_hist[:i+1], 5) for i in range(len(acc_hist))]\n",
        "    acc_ema_series = ema_series(acc_hist, beta=0.9)\n",
        "\n",
        "    # Accuracy curve\n",
        "    plt.figure(figsize=(10, 6))\n",
        "    plt.plot(rounds_axis, acc_hist, 'o-', label=\"Test Accuracy\", alpha=0.6, markersize=4)\n",
        "    plt.plot(rounds_axis, acc_ma5_series, '--', label=\"MA@5\", linewidth=2)\n",
        "    plt.plot(rounds_axis, acc_ema_series, '-', label=\"EMA (β=0.9)\", linewidth=2)\n",
        "    plt.xlabel(\"Round\", fontsize=12)\n",
        "    plt.ylabel(\"Accuracy\", fontsize=12)\n",
        "    plt.title(f\"Federated Learning: Heterogeneous Rank-Adaptive SVD Broadcast\\n\"\n",
        "              f\"(Dirichlet α={alpha}, {num_clients} clients, {participation:.0%} participation)\",\n",
        "              fontsize=13)\n",
        "    plt.grid(True, alpha=0.3)\n",
        "    plt.legend(fontsize=11)\n",
        "    plt.tight_layout()\n",
        "    plt.savefig(\"accuracy_curve.png\", dpi=150)\n",
        "    print(\"\\n[Saved] accuracy_curve.png\")\n",
        "    plt.show()\n",
        "\n",
        "    # Loss curve\n",
        "    plt.figure(figsize=(10, 6))\n",
        "    plt.plot(rounds_axis, loss_hist, 'o-', label=\"Test Loss\", color='coral', alpha=0.7, markersize=4)\n",
        "    plt.xlabel(\"Round\", fontsize=12)\n",
        "    plt.ylabel(\"Loss\", fontsize=12)\n",
        "    plt.title(\"Test Loss vs. Rounds\", fontsize=13)\n",
        "    plt.grid(True, alpha=0.3)\n",
        "    plt.legend(fontsize=11)\n",
        "    plt.tight_layout()\n",
        "    plt.savefig(\"loss_curve.png\", dpi=150)\n",
        "    print(\"[Saved] loss_curve.png\")\n",
        "    plt.show()\n",
        "\n",
        "    # Summary\n",
        "    print(f\"\\n{'='*80}\")\n",
        "    print(f\"Training Complete\")\n",
        "    print(f\"{'='*80}\")\n",
        "    print(f\"Final Accuracy: {acc_hist[-1]:.4f}\")\n",
        "    print(f\"MA@5 Accuracy: {moving_average(acc_hist, 5):.4f}\")\n",
        "    print(f\"Best Accuracy: {max(acc_hist):.4f} (Round {acc_hist.index(max(acc_hist))})\")\n",
        "    print(f\"Final Loss: {loss_hist[-1]:.4f}\")\n",
        "    print(f\"{'='*80}\\n\")\n",
        "\n",
        "\n",
        "# --------------------------- Entry Point ---------------------------\n",
        "\n",
        "if __name__ == \"__main__\":\n",
        "    run_federated(\n",
        "        rounds=60,\n",
        "        local_epochs=1,\n",
        "        num_clients=10,\n",
        "        client_ranks=[8, 16, 32, 16, 8, 8, 16, 32, 16, 8],  # Heterogeneous ranks\n",
        "        seed=0,\n",
        "        alpha=0.2,        # Dirichlet concentration (label skew)\n",
        "        participation=0.4,  # 40% client participation\n",
        "        ema_decay=0.9,    # EMA smoothing\n",
        "        device=\"cuda\" if torch.cuda.is_available() else \"cpu\",\n",
        "    )"
      ],
      "metadata": {
        "id": "LOormXt_Gb7Q",
        "outputId": "be4e6f4e-5c37-482c-fa16-683d08d93def",
        "colab": {
          "base_uri": "https://localhost:8080/",
          "height": 1000
        }
      },
      "execution_count": 1,
      "outputs": [
        {
          "output_type": "stream",
          "name": "stderr",
          "text": [
            "100%|██████████| 9.91M/9.91M [00:01<00:00, 6.09MB/s]\n",
            "100%|██████████| 28.9k/28.9k [00:00<00:00, 160kB/s]\n",
            "100%|██████████| 1.65M/1.65M [00:01<00:00, 1.52MB/s]\n",
            "100%|██████████| 4.54k/4.54k [00:00<00:00, 9.85MB/s]\n"
          ]
        },
        {
          "output_type": "stream",
          "name": "stdout",
          "text": [
            "\n",
            "[Data Split Statistics]\n",
            "================================================================================\n",
            "Client 00: n= 3975 | Distribution: 0:113, 1:1340, 2:1508, 3:11, 4:236, 5:194, 6:276, 7:6, 8:274, 9:17\n",
            "Client 01: n= 3085 | Distribution: 0:2073, 1:36, 2:90, 3:1, 4:0, 5:2, 6:36, 7:12, 8:58, 9:777\n",
            "Client 02: n= 8983 | Distribution: 0:1889, 1:39, 2:214, 3:340, 4:4495, 5:3, 6:1194, 7:30, 8:749, 9:30\n",
            "Client 03: n= 8322 | Distribution: 0:14, 1:28, 2:108, 3:95, 4:798, 5:3825, 6:128, 7:172, 8:2132, 9:1022\n",
            "Client 04: n= 4513 | Distribution: 0:7, 1:2, 2:223, 3:15, 4:6, 5:634, 6:1, 7:3, 8:0, 9:3622\n",
            "Client 05: n=  851 | Distribution: 0:38, 1:346, 2:0, 3:5, 4:11, 5:8, 6:293, 7:6, 8:135, 9:9\n",
            "Client 06: n=11128 | Distribution: 0:969, 1:4514, 2:240, 3:678, 4:0, 5:290, 6:3857, 7:19, 8:383, 9:178\n",
            "Client 07: n= 8358 | Distribution: 0:0, 1:423, 2:185, 3:2075, 4:139, 5:78, 6:0, 7:5456, 8:0, 9:2\n",
            "Client 08: n= 5090 | Distribution: 0:814, 1:12, 2:10, 3:1146, 4:24, 5:387, 6:5, 7:281, 8:2120, 9:291\n",
            "Client 09: n= 5695 | Distribution: 0:6, 1:2, 2:3380, 3:1765, 4:133, 5:0, 6:128, 7:280, 8:0, 9:1\n",
            "================================================================================\n",
            "\n",
            "================================================================================\n",
            "Federated Learning with Heterogeneous Rank-Adaptive SVD Broadcast\n",
            "================================================================================\n",
            "Dataset: MNIST (Dirichlet non-IID, α=0.2)\n",
            "Clients: 10 | Participation: 40%\n",
            "Rounds: 60 | Local Epochs: 1\n",
            "EMA Decay: 0.9\n",
            "Client Ranks: [8, 16, 32, 16, 8, 8, 16, 32, 16, 8]\n",
            "Device: cpu\n",
            "================================================================================\n",
            "\n",
            "[Round 0] Initial | Acc: 0.0650 | Loss: 2.3092\n",
            "\n",
            "[Round 1/60] Selected clients: [3, 4, 6, 9] | Ranks: [16, 8, 8, 16]\n"
          ]
        },
        {
          "output_type": "stream",
          "name": "stderr",
          "text": []
        },
        {
          "output_type": "stream",
          "name": "stdout",
          "text": [
            "[Round 1/60] Acc: 0.1262 (MA@5: 0.0956) | Loss: 2.2942\n",
            "\n",
            "[Round 2/60] Selected clients: [0, 2, 5, 9] | Ranks: [8, 8, 8, 32]\n"
          ]
        },
        {
          "output_type": "stream",
          "name": "stderr",
          "text": []
        },
        {
          "output_type": "stream",
          "name": "stdout",
          "text": [
            "[Round 2/60] Acc: 0.1846 (MA@5: 0.1253) | Loss: 2.2800\n",
            "\n",
            "[Round 3/60] Selected clients: [0, 1, 2, 5] | Ranks: [32, 8, 16, 8]\n"
          ]
        },
        {
          "output_type": "stream",
          "name": "stderr",
          "text": []
        },
        {
          "output_type": "stream",
          "name": "stdout",
          "text": [
            "[Round 3/60] Acc: 0.2415 (MA@5: 0.1543) | Loss: 2.2661\n",
            "\n",
            "[Round 4/60] Selected clients: [5, 7, 8, 9] | Ranks: [8, 32, 16, 8]\n"
          ]
        },
        {
          "output_type": "stream",
          "name": "stderr",
          "text": []
        },
        {
          "output_type": "stream",
          "name": "stdout",
          "text": [
            "[Round 4/60] Acc: 0.2610 (MA@5: 0.1757) | Loss: 2.2516\n",
            "\n",
            "[Round 5/60] Selected clients: [0, 4, 6, 8] | Ranks: [8, 8, 16, 16]\n"
          ]
        },
        {
          "output_type": "stream",
          "name": "stderr",
          "text": []
        },
        {
          "output_type": "stream",
          "name": "stdout",
          "text": [
            "[Round 5/60] Acc: 0.3283 (MA@5: 0.2283) | Loss: 2.2323\n",
            "\n",
            "[Round 6/60] Selected clients: [3, 4, 8, 9] | Ranks: [16, 16, 8, 8]\n"
          ]
        },
        {
          "output_type": "stream",
          "name": "stderr",
          "text": []
        },
        {
          "output_type": "stream",
          "name": "stdout",
          "text": [
            "[Round 6/60] Acc: 0.3586 (MA@5: 0.2748) | Loss: 2.2191\n",
            "\n",
            "[Round 7/60] Selected clients: [5, 6, 8, 9] | Ranks: [16, 8, 8, 16]\n"
          ]
        },
        {
          "output_type": "stream",
          "name": "stderr",
          "text": []
        },
        {
          "output_type": "stream",
          "name": "stdout",
          "text": [
            "[Round 7/60] Acc: 0.3712 (MA@5: 0.3121) | Loss: 2.1984\n",
            "\n",
            "[Round 8/60] Selected clients: [2, 5, 8, 9] | Ranks: [16, 32, 8, 8]\n"
          ]
        },
        {
          "output_type": "stream",
          "name": "stderr",
          "text": []
        },
        {
          "output_type": "stream",
          "name": "stdout",
          "text": [
            "[Round 8/60] Acc: 0.4265 (MA@5: 0.3491) | Loss: 2.1818\n",
            "\n",
            "[Round 9/60] Selected clients: [2, 6, 8, 9] | Ranks: [8, 16, 16, 32]\n"
          ]
        },
        {
          "output_type": "stream",
          "name": "stderr",
          "text": []
        },
        {
          "output_type": "stream",
          "name": "stdout",
          "text": [
            "[Round 9/60] Acc: 0.4442 (MA@5: 0.3858) | Loss: 2.1606\n",
            "\n",
            "[Round 10/60] Selected clients: [2, 5, 7, 9] | Ranks: [8, 32, 32, 8]\n"
          ]
        },
        {
          "output_type": "stream",
          "name": "stderr",
          "text": []
        },
        {
          "output_type": "stream",
          "name": "stdout",
          "text": [
            "[Round 10/60] Acc: 0.4515 (MA@5: 0.4104) | Loss: 2.1421\n",
            "\n",
            "[Round 11/60] Selected clients: [0, 1, 4, 7] | Ranks: [8, 8, 16, 32]\n"
          ]
        },
        {
          "output_type": "stream",
          "name": "stderr",
          "text": []
        },
        {
          "output_type": "stream",
          "name": "stdout",
          "text": [
            "[Round 11/60] Acc: 0.4741 (MA@5: 0.4335) | Loss: 2.1263\n",
            "\n",
            "[Round 12/60] Selected clients: [2, 4, 8, 9] | Ranks: [32, 16, 8, 8]\n"
          ]
        },
        {
          "output_type": "stream",
          "name": "stderr",
          "text": []
        },
        {
          "output_type": "stream",
          "name": "stdout",
          "text": [
            "[Round 12/60] Acc: 0.4847 (MA@5: 0.4562) | Loss: 2.1099\n",
            "\n",
            "[Round 13/60] Selected clients: [6, 7, 8, 9] | Ranks: [8, 32, 16, 16]\n"
          ]
        },
        {
          "output_type": "stream",
          "name": "stderr",
          "text": []
        },
        {
          "output_type": "stream",
          "name": "stdout",
          "text": [
            "[Round 13/60] Acc: 0.4928 (MA@5: 0.4695) | Loss: 2.0899\n",
            "\n",
            "[Round 14/60] Selected clients: [1, 3, 5, 6] | Ranks: [16, 16, 8, 16]\n"
          ]
        },
        {
          "output_type": "stream",
          "name": "stderr",
          "text": []
        },
        {
          "output_type": "stream",
          "name": "stdout",
          "text": [
            "[Round 14/60] Acc: 0.5068 (MA@5: 0.4820) | Loss: 2.0671\n",
            "\n",
            "[Round 15/60] Selected clients: [5, 6, 8, 9] | Ranks: [16, 8, 8, 16]\n"
          ]
        },
        {
          "output_type": "stream",
          "name": "stderr",
          "text": []
        },
        {
          "output_type": "stream",
          "name": "stdout",
          "text": [
            "[Round 15/60] Acc: 0.4771 (MA@5: 0.4871) | Loss: 2.0489\n",
            "\n",
            "[Round 16/60] Selected clients: [3, 4, 7, 9] | Ranks: [32, 8, 16, 8]\n"
          ]
        },
        {
          "output_type": "stream",
          "name": "stderr",
          "text": []
        },
        {
          "output_type": "stream",
          "name": "stdout",
          "text": [
            "[Round 16/60] Acc: 0.5109 (MA@5: 0.4945) | Loss: 2.0317\n",
            "\n",
            "[Round 17/60] Selected clients: [0, 1, 5, 6] | Ranks: [8, 8, 16, 16]\n"
          ]
        },
        {
          "output_type": "stream",
          "name": "stderr",
          "text": []
        },
        {
          "output_type": "stream",
          "name": "stdout",
          "text": [
            "[Round 17/60] Acc: 0.4901 (MA@5: 0.4955) | Loss: 2.0129\n",
            "\n",
            "[Round 18/60] Selected clients: [1, 3, 6, 7] | Ranks: [16, 16, 16, 32]\n"
          ]
        },
        {
          "output_type": "stream",
          "name": "stderr",
          "text": []
        },
        {
          "output_type": "stream",
          "name": "stdout",
          "text": [
            "[Round 18/60] Acc: 0.4953 (MA@5: 0.4960) | Loss: 1.9931\n",
            "\n",
            "[Round 19/60] Selected clients: [3, 4, 8, 9] | Ranks: [16, 8, 8, 16]\n"
          ]
        },
        {
          "output_type": "stream",
          "name": "stderr",
          "text": []
        },
        {
          "output_type": "stream",
          "name": "stdout",
          "text": [
            "[Round 19/60] Acc: 0.5312 (MA@5: 0.5009) | Loss: 1.9768\n",
            "\n",
            "[Round 20/60] Selected clients: [2, 4, 6, 8] | Ranks: [32, 16, 16, 8]\n"
          ]
        },
        {
          "output_type": "stream",
          "name": "stderr",
          "text": []
        },
        {
          "output_type": "stream",
          "name": "stdout",
          "text": [
            "[Round 20/60] Acc: 0.5293 (MA@5: 0.5114) | Loss: 1.9573\n",
            "\n",
            "[Round 21/60] Selected clients: [2, 3, 6, 9] | Ranks: [8, 32, 16, 16]\n"
          ]
        },
        {
          "output_type": "stream",
          "name": "stderr",
          "text": []
        },
        {
          "output_type": "stream",
          "name": "stdout",
          "text": [
            "[Round 21/60] Acc: 0.5307 (MA@5: 0.5153) | Loss: 1.9379\n",
            "\n",
            "[Round 22/60] Selected clients: [1, 2, 5, 8] | Ranks: [32, 16, 8, 16]\n"
          ]
        },
        {
          "output_type": "stream",
          "name": "stderr",
          "text": []
        },
        {
          "output_type": "stream",
          "name": "stdout",
          "text": [
            "[Round 22/60] Acc: 0.5411 (MA@5: 0.5255) | Loss: 1.9228\n",
            "\n",
            "[Round 23/60] Selected clients: [0, 3, 5, 6] | Ranks: [16, 16, 8, 8]\n"
          ]
        },
        {
          "output_type": "stream",
          "name": "stderr",
          "text": []
        },
        {
          "output_type": "stream",
          "name": "stdout",
          "text": [
            "[Round 23/60] Acc: 0.5303 (MA@5: 0.5325) | Loss: 1.9055\n",
            "\n",
            "[Round 24/60] Selected clients: [2, 4, 6, 7] | Ranks: [16, 32, 32, 8]\n"
          ]
        },
        {
          "output_type": "stream",
          "name": "stderr",
          "text": []
        },
        {
          "output_type": "stream",
          "name": "stdout",
          "text": [
            "[Round 24/60] Acc: 0.5370 (MA@5: 0.5337) | Loss: 1.8879\n",
            "\n",
            "[Round 25/60] Selected clients: [0, 1, 3, 7] | Ranks: [32, 16, 8, 16]\n"
          ]
        },
        {
          "output_type": "stream",
          "name": "stderr",
          "text": []
        },
        {
          "output_type": "stream",
          "name": "stdout",
          "text": [
            "[Round 25/60] Acc: 0.5692 (MA@5: 0.5417) | Loss: 1.8707\n",
            "\n",
            "[Round 26/60] Selected clients: [2, 3, 4, 6] | Ranks: [32, 8, 16, 16]\n"
          ]
        },
        {
          "output_type": "stream",
          "name": "stderr",
          "text": []
        },
        {
          "output_type": "stream",
          "name": "stdout",
          "text": [
            "[Round 26/60] Acc: 0.5682 (MA@5: 0.5492) | Loss: 1.8537\n",
            "\n",
            "[Round 27/60] Selected clients: [0, 1, 3, 5] | Ranks: [16, 8, 8, 16]\n"
          ]
        },
        {
          "output_type": "stream",
          "name": "stderr",
          "text": []
        },
        {
          "output_type": "stream",
          "name": "stdout",
          "text": [
            "[Round 27/60] Acc: 0.5877 (MA@5: 0.5585) | Loss: 1.8402\n",
            "\n",
            "[Round 28/60] Selected clients: [1, 4, 6, 8] | Ranks: [8, 16, 16, 16]\n"
          ]
        },
        {
          "output_type": "stream",
          "name": "stderr",
          "text": []
        },
        {
          "output_type": "stream",
          "name": "stdout",
          "text": [
            "[Round 28/60] Acc: 0.5882 (MA@5: 0.5701) | Loss: 1.8268\n",
            "\n",
            "[Round 29/60] Selected clients: [0, 5, 6, 9] | Ranks: [8, 8, 8, 16]\n"
          ]
        },
        {
          "output_type": "stream",
          "name": "stderr",
          "text": []
        },
        {
          "output_type": "stream",
          "name": "stdout",
          "text": [
            "[Round 29/60] Acc: 0.5709 (MA@5: 0.5768) | Loss: 1.8127\n",
            "\n",
            "[Round 30/60] Selected clients: [0, 1, 4, 6] | Ranks: [16, 8, 8, 16]\n"
          ]
        },
        {
          "output_type": "stream",
          "name": "stderr",
          "text": []
        },
        {
          "output_type": "stream",
          "name": "stdout",
          "text": [
            "[Round 30/60] Acc: 0.5591 (MA@5: 0.5748) | Loss: 1.8010\n",
            "\n",
            "[Round 31/60] Selected clients: [0, 3, 4, 7] | Ranks: [32, 16, 8, 8]\n"
          ]
        },
        {
          "output_type": "stream",
          "name": "stderr",
          "text": []
        },
        {
          "output_type": "stream",
          "name": "stdout",
          "text": [
            "[Round 31/60] Acc: 0.6097 (MA@5: 0.5831) | Loss: 1.7841\n",
            "\n",
            "[Round 32/60] Selected clients: [1, 5, 6, 7] | Ranks: [32, 16, 8, 16]\n"
          ]
        },
        {
          "output_type": "stream",
          "name": "stderr",
          "text": []
        },
        {
          "output_type": "stream",
          "name": "stdout",
          "text": [
            "[Round 32/60] Acc: 0.5930 (MA@5: 0.5842) | Loss: 1.7713\n",
            "\n",
            "[Round 33/60] Selected clients: [3, 5, 6, 8] | Ranks: [16, 16, 16, 8]\n"
          ]
        },
        {
          "output_type": "stream",
          "name": "stderr",
          "text": []
        },
        {
          "output_type": "stream",
          "name": "stdout",
          "text": [
            "[Round 33/60] Acc: 0.5889 (MA@5: 0.5843) | Loss: 1.7588\n",
            "\n",
            "[Round 34/60] Selected clients: [0, 1, 7, 8] | Ranks: [32, 16, 16, 8]\n"
          ]
        },
        {
          "output_type": "stream",
          "name": "stderr",
          "text": []
        },
        {
          "output_type": "stream",
          "name": "stdout",
          "text": [
            "[Round 34/60] Acc: 0.5962 (MA@5: 0.5894) | Loss: 1.7458\n",
            "\n",
            "[Round 35/60] Selected clients: [0, 2, 4, 7] | Ranks: [32, 8, 32, 8]\n"
          ]
        },
        {
          "output_type": "stream",
          "name": "stderr",
          "text": []
        },
        {
          "output_type": "stream",
          "name": "stdout",
          "text": [
            "[Round 35/60] Acc: 0.6104 (MA@5: 0.5996) | Loss: 1.7306\n",
            "\n",
            "[Round 36/60] Selected clients: [1, 2, 3, 9] | Ranks: [32, 8, 16, 16]\n"
          ]
        },
        {
          "output_type": "stream",
          "name": "stderr",
          "text": []
        },
        {
          "output_type": "stream",
          "name": "stdout",
          "text": [
            "[Round 36/60] Acc: 0.6307 (MA@5: 0.6038) | Loss: 1.7145\n",
            "\n",
            "[Round 37/60] Selected clients: [1, 5, 6, 8] | Ranks: [16, 16, 16, 8]\n"
          ]
        },
        {
          "output_type": "stream",
          "name": "stderr",
          "text": []
        },
        {
          "output_type": "stream",
          "name": "stdout",
          "text": [
            "[Round 37/60] Acc: 0.6187 (MA@5: 0.6090) | Loss: 1.7056\n",
            "\n",
            "[Round 38/60] Selected clients: [1, 2, 3, 9] | Ranks: [8, 16, 32, 16]\n"
          ]
        },
        {
          "output_type": "stream",
          "name": "stderr",
          "text": []
        },
        {
          "output_type": "stream",
          "name": "stdout",
          "text": [
            "[Round 38/60] Acc: 0.6314 (MA@5: 0.6175) | Loss: 1.6901\n",
            "\n",
            "[Round 39/60] Selected clients: [2, 4, 5, 6] | Ranks: [8, 32, 16, 8]\n"
          ]
        },
        {
          "output_type": "stream",
          "name": "stderr",
          "text": []
        },
        {
          "output_type": "stream",
          "name": "stdout",
          "text": [
            "[Round 39/60] Acc: 0.6177 (MA@5: 0.6218) | Loss: 1.6792\n",
            "\n",
            "[Round 40/60] Selected clients: [0, 3, 5, 6] | Ranks: [16, 16, 8, 8]\n"
          ]
        },
        {
          "output_type": "stream",
          "name": "stderr",
          "text": []
        },
        {
          "output_type": "stream",
          "name": "stdout",
          "text": [
            "[Round 40/60] Acc: 0.6161 (MA@5: 0.6229) | Loss: 1.6680\n",
            "\n",
            "[Round 41/60] Selected clients: [4, 7, 8, 9] | Ranks: [32, 8, 8, 16]\n"
          ]
        },
        {
          "output_type": "stream",
          "name": "stderr",
          "text": []
        },
        {
          "output_type": "stream",
          "name": "stdout",
          "text": [
            "[Round 41/60] Acc: 0.6440 (MA@5: 0.6256) | Loss: 1.6539\n",
            "\n",
            "[Round 42/60] Selected clients: [0, 4, 5, 6] | Ranks: [8, 8, 8, 16]\n"
          ]
        },
        {
          "output_type": "stream",
          "name": "stderr",
          "text": []
        },
        {
          "output_type": "stream",
          "name": "stdout",
          "text": [
            "[Round 42/60] Acc: 0.6388 (MA@5: 0.6296) | Loss: 1.6454\n",
            "\n",
            "[Round 43/60] Selected clients: [0, 3, 5, 8] | Ranks: [8, 8, 16, 16]\n"
          ]
        },
        {
          "output_type": "stream",
          "name": "stderr",
          "text": []
        },
        {
          "output_type": "stream",
          "name": "stdout",
          "text": [
            "[Round 43/60] Acc: 0.6593 (MA@5: 0.6352) | Loss: 1.6333\n",
            "\n",
            "[Round 44/60] Selected clients: [0, 2, 4, 7] | Ranks: [32, 8, 8, 32]\n"
          ]
        },
        {
          "output_type": "stream",
          "name": "stderr",
          "text": []
        },
        {
          "output_type": "stream",
          "name": "stdout",
          "text": [
            "[Round 44/60] Acc: 0.6661 (MA@5: 0.6449) | Loss: 1.6198\n",
            "\n",
            "[Round 45/60] Selected clients: [4, 5, 6, 8] | Ranks: [16, 8, 8, 16]\n"
          ]
        },
        {
          "output_type": "stream",
          "name": "stderr",
          "text": []
        },
        {
          "output_type": "stream",
          "name": "stdout",
          "text": [
            "[Round 45/60] Acc: 0.6572 (MA@5: 0.6531) | Loss: 1.6125\n",
            "\n",
            "[Round 46/60] Selected clients: [0, 1, 3, 7] | Ranks: [32, 8, 16, 16]\n"
          ]
        },
        {
          "output_type": "stream",
          "name": "stderr",
          "text": []
        },
        {
          "output_type": "stream",
          "name": "stdout",
          "text": [
            "[Round 46/60] Acc: 0.6769 (MA@5: 0.6597) | Loss: 1.5996\n",
            "\n",
            "[Round 47/60] Selected clients: [0, 4, 5, 7] | Ranks: [8, 8, 32, 8]\n"
          ]
        },
        {
          "output_type": "stream",
          "name": "stderr",
          "text": []
        },
        {
          "output_type": "stream",
          "name": "stdout",
          "text": [
            "[Round 47/60] Acc: 0.6799 (MA@5: 0.6679) | Loss: 1.5898\n",
            "\n",
            "[Round 48/60] Selected clients: [0, 3, 4, 5] | Ranks: [8, 8, 16, 8]\n"
          ]
        },
        {
          "output_type": "stream",
          "name": "stderr",
          "text": []
        },
        {
          "output_type": "stream",
          "name": "stdout",
          "text": [
            "[Round 48/60] Acc: 0.7029 (MA@5: 0.6766) | Loss: 1.5801\n",
            "\n",
            "[Round 49/60] Selected clients: [0, 2, 5, 7] | Ranks: [8, 32, 32, 8]\n"
          ]
        },
        {
          "output_type": "stream",
          "name": "stderr",
          "text": []
        },
        {
          "output_type": "stream",
          "name": "stdout",
          "text": [
            "[Round 49/60] Acc: 0.7049 (MA@5: 0.6844) | Loss: 1.5677\n",
            "\n",
            "[Round 50/60] Selected clients: [5, 6, 8, 9] | Ranks: [16, 8, 16, 8]\n"
          ]
        },
        {
          "output_type": "stream",
          "name": "stderr",
          "text": []
        },
        {
          "output_type": "stream",
          "name": "stdout",
          "text": [
            "[Round 50/60] Acc: 0.6938 (MA@5: 0.6917) | Loss: 1.5586\n",
            "\n",
            "[Round 51/60] Selected clients: [2, 3, 7, 8] | Ranks: [16, 16, 32, 32]\n"
          ]
        },
        {
          "output_type": "stream",
          "name": "stderr",
          "text": []
        },
        {
          "output_type": "stream",
          "name": "stdout",
          "text": [
            "[Round 51/60] Acc: 0.6889 (MA@5: 0.6941) | Loss: 1.5476\n",
            "\n",
            "[Round 52/60] Selected clients: [2, 4, 5, 6] | Ranks: [16, 32, 8, 8]\n"
          ]
        },
        {
          "output_type": "stream",
          "name": "stderr",
          "text": []
        },
        {
          "output_type": "stream",
          "name": "stdout",
          "text": [
            "[Round 52/60] Acc: 0.6831 (MA@5: 0.6947) | Loss: 1.5378\n",
            "\n",
            "[Round 53/60] Selected clients: [0, 5, 6, 7] | Ranks: [16, 8, 8, 32]\n"
          ]
        },
        {
          "output_type": "stream",
          "name": "stderr",
          "text": []
        },
        {
          "output_type": "stream",
          "name": "stdout",
          "text": [
            "[Round 53/60] Acc: 0.6604 (MA@5: 0.6862) | Loss: 1.5306\n",
            "\n",
            "[Round 54/60] Selected clients: [1, 2, 5, 8] | Ranks: [8, 16, 32, 16]\n"
          ]
        },
        {
          "output_type": "stream",
          "name": "stderr",
          "text": []
        },
        {
          "output_type": "stream",
          "name": "stdout",
          "text": [
            "[Round 54/60] Acc: 0.6502 (MA@5: 0.6753) | Loss: 1.5217\n",
            "\n",
            "[Round 55/60] Selected clients: [6, 7, 8, 9] | Ranks: [16, 32, 8, 16]\n"
          ]
        },
        {
          "output_type": "stream",
          "name": "stderr",
          "text": []
        },
        {
          "output_type": "stream",
          "name": "stdout",
          "text": [
            "[Round 55/60] Acc: 0.6414 (MA@5: 0.6648) | Loss: 1.5141\n",
            "\n",
            "[Round 56/60] Selected clients: [0, 2, 3, 5] | Ranks: [32, 8, 16, 8]\n"
          ]
        },
        {
          "output_type": "stream",
          "name": "stderr",
          "text": []
        },
        {
          "output_type": "stream",
          "name": "stdout",
          "text": [
            "[Round 56/60] Acc: 0.6449 (MA@5: 0.6560) | Loss: 1.5018\n",
            "\n",
            "[Round 57/60] Selected clients: [0, 4, 5, 7] | Ranks: [8, 8, 32, 8]\n"
          ]
        },
        {
          "output_type": "stream",
          "name": "stderr",
          "text": []
        },
        {
          "output_type": "stream",
          "name": "stdout",
          "text": [
            "[Round 57/60] Acc: 0.6560 (MA@5: 0.6506) | Loss: 1.4929\n",
            "\n",
            "[Round 58/60] Selected clients: [2, 3, 5, 8] | Ranks: [8, 32, 16, 16]\n"
          ]
        },
        {
          "output_type": "stream",
          "name": "stderr",
          "text": []
        },
        {
          "output_type": "stream",
          "name": "stdout",
          "text": [
            "[Round 58/60] Acc: 0.6583 (MA@5: 0.6502) | Loss: 1.4829\n",
            "\n",
            "[Round 59/60] Selected clients: [4, 5, 6, 8] | Ranks: [16, 8, 8, 16]\n"
          ]
        },
        {
          "output_type": "stream",
          "name": "stderr",
          "text": []
        },
        {
          "output_type": "stream",
          "name": "stdout",
          "text": [
            "[Round 59/60] Acc: 0.6645 (MA@5: 0.6530) | Loss: 1.4762\n",
            "\n",
            "[Round 60/60] Selected clients: [0, 1, 2, 3] | Ranks: [16, 32, 16, 8]\n"
          ]
        },
        {
          "output_type": "stream",
          "name": "stderr",
          "text": []
        },
        {
          "output_type": "stream",
          "name": "stdout",
          "text": [
            "[Round 60/60] Acc: 0.6620 (MA@5: 0.6571) | Loss: 1.4663\n",
            "\n",
            "[SVD Broadcast Stats]\n",
            "  Avg Compression Ratio: 0.0807\n",
            "  Avg SVD Time: 22.55ms\n",
            "\n",
            "[Saved] accuracy_curve.png\n"
          ]
        },
        {
          "output_type": "display_data",
          "data": {
            "text/plain": [
              "<Figure size 1000x600 with 1 Axes>"
            ],
            "image/png": "[encoded data removed]"
          },
          "metadata": {}
        },
        {
          "output_type": "stream",
          "name": "stdout",
          "text": [
            "[Saved] loss_curve.png\n"
          ]
        },
        {
          "output_type": "display_data",
          "data": {
            "text/plain": [
              "<Figure size 1000x600 with 1 Axes>"
            ],
            "image/png": "[encoded data removed]"
          },
          "metadata": {}
        },
        {
          "output_type": "stream",
          "name": "stdout",
          "text": [
            "\n",
            "================================================================================\n",
            "Training Complete\n",
            "================================================================================\n",
            "Final Accuracy: 0.6620\n",
            "MA@5 Accuracy: 0.6571\n",
            "Best Accuracy: 0.7049 (Round 49)\n",
            "Final Loss: 1.4663\n",
            "================================================================================\n",
            "\n"
          ]
        }
      ]
    }
  ]
}