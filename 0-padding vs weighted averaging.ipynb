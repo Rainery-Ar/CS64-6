{
  "nbformat": 4,
  "nbformat_minor": 0,
  "metadata": {
    "colab": {
      "provenance": []
    },
    "kernelspec": {
      "name": "python3",
      "display_name": "Python 3"
    },
    "language_info": {
      "name": "python"
    }
  },
  "cells": [
    {
      "cell_type": "code",
      "source": [
        "import torch\n",
        "import torch.nn as nn\n",
        "from torch.utils.data import DataLoader, TensorDataset, Subset\n",
        "from torchvision.datasets import MNIST\n",
        "from torchvision.transforms import ToTensor\n",
        "from collections import defaultdict\n",
        "import numpy as np\n",
        "import copy\n",
        "from tqdm import tqdm\n",
        "\n",
        "# 超参数\n",
        "NUM_CLIENTS = 10\n",
        "NUM_ROUNDS = 50\n",
        "LOCAL_EPOCHS = 5\n",
        "BATCH_SIZE = 32\n",
        "LEARNING_RATE = 0.01\n",
        "\n",
        "# LoRA超参数\n",
        "LORA_R = 8  # 增加秩以提高表达能力\n",
        "LORA_ALPHA = 16 # 调整缩放因子\n",
        "\n",
        "# --- 数据集准备 ---\n",
        "def prepare_non_iid_data():\n",
        "    train_data = MNIST(root='./data', train=True, download=True, transform=ToTensor())\n",
        "    test_data = MNIST(root='./data', train=False, download=True, transform=ToTensor())\n",
        "\n",
        "    data_by_label = defaultdict(list)\n",
        "    for img, label in zip(train_data.data, train_data.targets):\n",
        "        data_by_label[label.item()].append((img, label))\n",
        "\n",
        "    client_datasets = [[] for _ in range(NUM_CLIENTS)]\n",
        "    client_labels_per_client = 2\n",
        "    labels_list = list(data_by_label.keys())\n",
        "    for i in range(NUM_CLIENTS):\n",
        "        start_label_index = (i * client_labels_per_client) % len(labels_list)\n",
        "        labels_to_assign = [labels_list[start_label_index], labels_list[(start_label_index + 1) % len(labels_list)]]\n",
        "        for label in labels_to_assign:\n",
        "            client_datasets[i].extend(data_by_label[label])\n",
        "\n",
        "    client_dataloaders = []\n",
        "    client_data_sizes = []\n",
        "    for data in client_datasets:\n",
        "        imgs = torch.stack([d[0] for d in data]).unsqueeze(1).float() / 255.0\n",
        "        labels = torch.tensor([d[1] for d in data]).long()\n",
        "        dataset = TensorDataset(imgs, labels)\n",
        "        client_dataloaders.append(DataLoader(dataset, batch_size=BATCH_SIZE, shuffle=True))\n",
        "        client_data_sizes.append(len(dataset))\n",
        "\n",
        "    test_dataloader = DataLoader(test_data, batch_size=BATCH_SIZE, shuffle=False)\n",
        "\n",
        "    return client_dataloaders, client_data_sizes, test_dataloader\n",
        "\n",
        "# --- LoRA 模块和模型定义（手搓） ---\n",
        "class LoRA_Linear(nn.Module):\n",
        "    def __init__(self, in_features, out_features, rank, alpha):\n",
        "        super().__init__()\n",
        "        self.rank = rank\n",
        "        self.alpha = alpha\n",
        "\n",
        "        # 基础线性层\n",
        "        self.base_layer = nn.Linear(in_features, out_features)\n",
        "\n",
        "        # LoRA矩阵初始化：A随机，B为零\n",
        "        self.lora_A = nn.Parameter(torch.randn(in_features, rank) * 0.01)\n",
        "        self.lora_B = nn.Parameter(torch.zeros(rank, out_features))\n",
        "\n",
        "        self.scaling = self.alpha / self.rank\n",
        "\n",
        "        # 冻结基础层权重\n",
        "        self.base_layer.weight.requires_grad = False\n",
        "        self.base_layer.bias.requires_grad = False\n",
        "\n",
        "    def forward(self, x):\n",
        "        # 计算基础层的输出\n",
        "        base_output = self.base_layer(x)\n",
        "\n",
        "        # 计算 LoRA 模块的更新\n",
        "        lora_update = (x @ self.lora_A @ self.lora_B) * self.scaling\n",
        "\n",
        "        return base_output + lora_update\n",
        "\n",
        "class LoRAMNISTModel(nn.Module):\n",
        "    def __init__(self):\n",
        "        super().__init__()\n",
        "        self.flatten = nn.Flatten()\n",
        "        self.fc1 = LoRA_Linear(28*28, 128, LORA_R, LORA_ALPHA)\n",
        "        self.relu1 = nn.ReLU()\n",
        "        self.fc2 = LoRA_Linear(128, 64, LORA_R, LORA_ALPHA)\n",
        "        self.relu2 = nn.ReLU()\n",
        "        self.fc3 = LoRA_Linear(64, 10, LORA_R, LORA_ALPHA)\n",
        "\n",
        "    def forward(self, x):\n",
        "        x = self.flatten(x)\n",
        "        x = self.fc1(x)\n",
        "        x = self.relu1(x)\n",
        "        x = self.fc2(x)\n",
        "        x = self.relu2(x)\n",
        "        x = self.fc3(x)\n",
        "        return x\n",
        "\n",
        "# --- 评估和训练函数 ---\n",
        "def evaluate_model(model, dataloader):\n",
        "    model.eval()\n",
        "    correct = 0\n",
        "    total = 0\n",
        "    with torch.no_grad():\n",
        "        for imgs, labels in dataloader:\n",
        "            outputs = model(imgs)\n",
        "            _, predicted = torch.max(outputs.data, 1)\n",
        "            total += labels.size(0)\n",
        "            correct += (predicted == labels).sum().item()\n",
        "    return 100 * correct / total\n",
        "\n",
        "def train_federated_model(global_model, client_dataloaders, client_data_sizes, aggregation_method):\n",
        "    history = []\n",
        "\n",
        "    for round_num in range(NUM_ROUNDS):\n",
        "        client_lora_weights = []\n",
        "\n",
        "        for i, dataloader in enumerate(client_dataloaders):\n",
        "            client_model = copy.deepcopy(global_model)\n",
        "            optimizer = torch.optim.SGD(\n",
        "                [p for p in client_model.parameters() if p.requires_grad],\n",
        "                lr=LEARNING_RATE\n",
        "            )\n",
        "            criterion = nn.CrossEntropyLoss()\n",
        "\n",
        "            client_model.train()\n",
        "            for epoch in range(LOCAL_EPOCHS):\n",
        "                for imgs, labels in dataloader:\n",
        "                    optimizer.zero_grad()\n",
        "                    outputs = client_model(imgs)\n",
        "                    loss = criterion(outputs, labels)\n",
        "                    loss.backward()\n",
        "                    optimizer.step()\n",
        "\n",
        "            # 提取所有LoRA层的权重\n",
        "            lora_weights = {}\n",
        "            for name, module in client_model.named_modules():\n",
        "                if isinstance(module, LoRA_Linear):\n",
        "                    lora_weights[name] = {\n",
        "                        'A': module.lora_A.detach().clone(),\n",
        "                        'B': module.lora_B.detach().clone()\n",
        "                    }\n",
        "            client_lora_weights.append(lora_weights)\n",
        "\n",
        "        # 聚合步骤\n",
        "        if aggregation_method == 'zero_padding':\n",
        "            global_lora_updates = defaultdict(lambda: defaultdict(list))\n",
        "            for client_weights in client_lora_weights:\n",
        "                for name, weights in client_weights.items():\n",
        "                    global_lora_updates[name]['A'].append(weights['A'])\n",
        "                    global_lora_updates[name]['B'].append(weights['B'])\n",
        "\n",
        "            # 聚合 LoRA 矩阵 A 和 B\n",
        "            aggregated_weights = {}\n",
        "            for name, weights_list in global_lora_updates.items():\n",
        "                # 聚合 A\n",
        "                max_rank_A = max(w.shape[1] for w in weights_list['A'])\n",
        "                padded_A_list = [torch.zeros(w.shape[0], max_rank_A) if w.shape[1] < max_rank_A else w for w in weights_list['A']]\n",
        "                for i, w in enumerate(weights_list['A']):\n",
        "                    if w.shape[1] < max_rank_A:\n",
        "                        padded_A_list[i][:, :w.shape[1]] = w\n",
        "\n",
        "                # 聚合 B\n",
        "                max_rank_B = max(w.shape[0] for w in weights_list['B'])\n",
        "                padded_B_list = [torch.zeros(max_rank_B, w.shape[1]) if w.shape[0] < max_rank_B else w for w in weights_list['B']]\n",
        "                for i, w in enumerate(weights_list['B']):\n",
        "                    if w.shape[0] < max_rank_B:\n",
        "                        padded_B_list[i][:w.shape[0], :] = w\n",
        "\n",
        "                avg_A = torch.stack(padded_A_list).mean(dim=0)\n",
        "                avg_B = torch.stack(padded_B_list).mean(dim=0)\n",
        "                aggregated_weights[name] = {'A': avg_A, 'B': avg_B}\n",
        "\n",
        "        elif aggregation_method == 'weighted_averaging':\n",
        "            total_data_size = sum(client_data_sizes)\n",
        "            aggregated_weights = {}\n",
        "\n",
        "            # 初始化聚合后的权重\n",
        "            for name in client_lora_weights[0].keys():\n",
        "                avg_A = torch.zeros_like(client_lora_weights[0][name]['A'])\n",
        "                avg_B = torch.zeros_like(client_lora_weights[0][name]['B'])\n",
        "                for i, client_weights in enumerate(client_lora_weights):\n",
        "                    weight = client_data_sizes[i] / total_data_size\n",
        "                    avg_A += client_weights[name]['A'] * weight\n",
        "                    avg_B += client_weights[name]['B'] * weight\n",
        "                aggregated_weights[name] = {'A': avg_A, 'B': avg_B}\n",
        "\n",
        "        # 更新全局模型的LoRA权重\n",
        "        for name, module in global_model.named_modules():\n",
        "            if isinstance(module, LoRA_Linear):\n",
        "                module.lora_A.data = aggregated_weights[name]['A']\n",
        "                module.lora_B.data = aggregated_weights[name]['B']\n",
        "\n",
        "        # 评估全局模型\n",
        "        accuracy = evaluate_model(global_model, test_dataloader)\n",
        "        print(f\"聚合方法: {aggregation_method} | 回合 {round_num + 1}/{NUM_ROUNDS} 准确率: {accuracy:.2f}%\")\n",
        "        history.append(accuracy)\n",
        "    return history\n",
        "\n",
        "if __name__ == '__main__':\n",
        "    client_dataloaders, client_data_sizes, test_dataloader = prepare_non_iid_data()\n",
        "\n",
        "    # 零值填充聚合\n",
        "    print(\"--- 开始使用零值填充聚合 ---\")\n",
        "    global_model_zp = LoRAMNISTModel()\n",
        "    history_zp = train_federated_model(global_model_zp, client_dataloaders, client_data_sizes, 'zero_padding')\n",
        "\n",
        "    print(\"\\n\" + \"=\"*50 + \"\\n\")\n",
        "\n",
        "    # 加权平均聚合\n",
        "    print(\"--- 开始使用加权平均聚合 ---\")\n",
        "    global_model_wa = LoRAMNISTModel()\n",
        "    history_wa = train_federated_model(global_model_wa, client_dataloaders, client_data_sizes, 'weighted_averaging')\n",
        "\n",
        "    print(\"\\n--- 最终结果对比 ---\")\n",
        "    print(\"零值填充聚合的准确率历史:\", [f\"{acc:.2f}%\" for acc in history_zp])\n",
        "    print(\"加权平均聚合的准确率历史:\", [f\"{acc:.2f}%\" for acc in history_wa])"
      ],
      "metadata": {
        "colab": {
          "base_uri": "https://localhost:8080/"
        },
        "id": "bzSvT9hzfvma",
        "outputId": "636047fb-fc03-41dc-e0ff-eed7dac40f08"
      },
      "execution_count": null,
      "outputs": [
        {
          "output_type": "stream",
          "name": "stdout",
          "text": [
            "--- 开始使用零值填充聚合 ---\n",
            "聚合方法: zero_padding | 回合 1/50 准确率: 8.97%\n",
            "聚合方法: zero_padding | 回合 2/50 准确率: 11.44%\n",
            "聚合方法: zero_padding | 回合 3/50 准确率: 16.98%\n",
            "聚合方法: zero_padding | 回合 4/50 准确率: 42.10%\n",
            "聚合方法: zero_padding | 回合 5/50 准确率: 53.66%\n",
            "聚合方法: zero_padding | 回合 6/50 准确率: 55.66%\n",
            "聚合方法: zero_padding | 回合 7/50 准确率: 56.64%\n",
            "聚合方法: zero_padding | 回合 8/50 准确率: 57.55%\n",
            "聚合方法: zero_padding | 回合 9/50 准确率: 57.69%\n",
            "聚合方法: zero_padding | 回合 10/50 准确率: 57.74%\n",
            "聚合方法: zero_padding | 回合 11/50 准确率: 57.40%\n",
            "聚合方法: zero_padding | 回合 12/50 准确率: 58.05%\n",
            "聚合方法: zero_padding | 回合 13/50 准确率: 57.24%\n",
            "聚合方法: zero_padding | 回合 14/50 准确率: 58.98%\n",
            "聚合方法: zero_padding | 回合 15/50 准确率: 58.04%\n",
            "聚合方法: zero_padding | 回合 16/50 准确率: 58.23%\n",
            "聚合方法: zero_padding | 回合 17/50 准确率: 59.62%\n",
            "聚合方法: zero_padding | 回合 18/50 准确率: 58.78%\n",
            "聚合方法: zero_padding | 回合 19/50 准确率: 59.45%\n",
            "聚合方法: zero_padding | 回合 20/50 准确率: 59.10%\n",
            "聚合方法: zero_padding | 回合 21/50 准确率: 58.32%\n",
            "聚合方法: zero_padding | 回合 22/50 准确率: 60.29%\n",
            "聚合方法: zero_padding | 回合 23/50 准确率: 59.49%\n",
            "聚合方法: zero_padding | 回合 24/50 准确率: 60.32%\n",
            "聚合方法: zero_padding | 回合 25/50 准确率: 61.52%\n",
            "聚合方法: zero_padding | 回合 26/50 准确率: 60.95%\n",
            "聚合方法: zero_padding | 回合 27/50 准确率: 59.94%\n",
            "聚合方法: zero_padding | 回合 28/50 准确率: 60.56%\n",
            "聚合方法: zero_padding | 回合 29/50 准确率: 61.17%\n",
            "聚合方法: zero_padding | 回合 30/50 准确率: 61.16%\n",
            "聚合方法: zero_padding | 回合 31/50 准确率: 61.41%\n",
            "聚合方法: zero_padding | 回合 32/50 准确率: 62.17%\n",
            "聚合方法: zero_padding | 回合 33/50 准确率: 61.28%\n",
            "聚合方法: zero_padding | 回合 34/50 准确率: 62.65%\n",
            "聚合方法: zero_padding | 回合 35/50 准确率: 61.78%\n",
            "聚合方法: zero_padding | 回合 36/50 准确率: 63.26%\n",
            "聚合方法: zero_padding | 回合 37/50 准确率: 62.99%\n",
            "聚合方法: zero_padding | 回合 38/50 准确率: 62.73%\n",
            "聚合方法: zero_padding | 回合 39/50 准确率: 62.92%\n",
            "聚合方法: zero_padding | 回合 40/50 准确率: 63.81%\n",
            "聚合方法: zero_padding | 回合 41/50 准确率: 62.45%\n",
            "聚合方法: zero_padding | 回合 42/50 准确率: 62.70%\n",
            "聚合方法: zero_padding | 回合 43/50 准确率: 64.45%\n",
            "聚合方法: zero_padding | 回合 44/50 准确率: 62.87%\n",
            "聚合方法: zero_padding | 回合 45/50 准确率: 63.80%\n",
            "聚合方法: zero_padding | 回合 46/50 准确率: 64.69%\n",
            "聚合方法: zero_padding | 回合 47/50 准确率: 64.24%\n",
            "聚合方法: zero_padding | 回合 48/50 准确率: 64.04%\n",
            "聚合方法: zero_padding | 回合 49/50 准确率: 64.72%\n",
            "聚合方法: zero_padding | 回合 50/50 准确率: 63.51%\n",
            "\n",
            "==================================================\n",
            "\n",
            "--- 开始使用加权平均聚合 ---\n",
            "聚合方法: weighted_averaging | 回合 1/50 准确率: 10.57%\n",
            "聚合方法: weighted_averaging | 回合 2/50 准确率: 24.81%\n",
            "聚合方法: weighted_averaging | 回合 3/50 准确率: 26.69%\n",
            "聚合方法: weighted_averaging | 回合 4/50 准确率: 35.59%\n",
            "聚合方法: weighted_averaging | 回合 5/50 准确率: 39.77%\n",
            "聚合方法: weighted_averaging | 回合 6/50 准确率: 40.89%\n",
            "聚合方法: weighted_averaging | 回合 7/50 准确率: 43.41%\n",
            "聚合方法: weighted_averaging | 回合 8/50 准确率: 42.83%\n",
            "聚合方法: weighted_averaging | 回合 9/50 准确率: 42.22%\n",
            "聚合方法: weighted_averaging | 回合 10/50 准确率: 46.18%\n",
            "聚合方法: weighted_averaging | 回合 11/50 准确率: 45.68%\n",
            "聚合方法: weighted_averaging | 回合 12/50 准确率: 45.06%\n",
            "聚合方法: weighted_averaging | 回合 13/50 准确率: 46.37%\n",
            "聚合方法: weighted_averaging | 回合 14/50 准确率: 46.40%\n",
            "聚合方法: weighted_averaging | 回合 15/50 准确率: 47.87%\n",
            "聚合方法: weighted_averaging | 回合 16/50 准确率: 48.38%\n",
            "聚合方法: weighted_averaging | 回合 17/50 准确率: 49.08%\n",
            "聚合方法: weighted_averaging | 回合 18/50 准确率: 48.56%\n",
            "聚合方法: weighted_averaging | 回合 19/50 准确率: 51.15%\n",
            "聚合方法: weighted_averaging | 回合 20/50 准确率: 48.74%\n",
            "聚合方法: weighted_averaging | 回合 21/50 准确率: 48.99%\n",
            "聚合方法: weighted_averaging | 回合 22/50 准确率: 51.10%\n",
            "聚合方法: weighted_averaging | 回合 23/50 准确率: 51.04%\n",
            "聚合方法: weighted_averaging | 回合 24/50 准确率: 49.23%\n",
            "聚合方法: weighted_averaging | 回合 25/50 准确率: 52.03%\n",
            "聚合方法: weighted_averaging | 回合 26/50 准确率: 52.77%\n",
            "聚合方法: weighted_averaging | 回合 27/50 准确率: 52.25%\n",
            "聚合方法: weighted_averaging | 回合 28/50 准确率: 52.45%\n",
            "聚合方法: weighted_averaging | 回合 29/50 准确率: 52.69%\n",
            "聚合方法: weighted_averaging | 回合 30/50 准确率: 53.27%\n",
            "聚合方法: weighted_averaging | 回合 31/50 准确率: 54.26%\n",
            "聚合方法: weighted_averaging | 回合 32/50 准确率: 55.66%\n",
            "聚合方法: weighted_averaging | 回合 33/50 准确率: 54.65%\n",
            "聚合方法: weighted_averaging | 回合 34/50 准确率: 56.98%\n",
            "聚合方法: weighted_averaging | 回合 35/50 准确率: 55.51%\n",
            "聚合方法: weighted_averaging | 回合 36/50 准确率: 55.34%\n",
            "聚合方法: weighted_averaging | 回合 37/50 准确率: 55.11%\n",
            "聚合方法: weighted_averaging | 回合 38/50 准确率: 55.49%\n",
            "聚合方法: weighted_averaging | 回合 39/50 准确率: 55.84%\n",
            "聚合方法: weighted_averaging | 回合 40/50 准确率: 56.93%\n",
            "聚合方法: weighted_averaging | 回合 41/50 准确率: 56.05%\n",
            "聚合方法: weighted_averaging | 回合 42/50 准确率: 56.76%\n",
            "聚合方法: weighted_averaging | 回合 43/50 准确率: 57.65%\n",
            "聚合方法: weighted_averaging | 回合 44/50 准确率: 57.58%\n",
            "聚合方法: weighted_averaging | 回合 45/50 准确率: 57.96%\n",
            "聚合方法: weighted_averaging | 回合 46/50 准确率: 57.90%\n",
            "聚合方法: weighted_averaging | 回合 47/50 准确率: 59.31%\n",
            "聚合方法: weighted_averaging | 回合 48/50 准确率: 57.04%\n",
            "聚合方法: weighted_averaging | 回合 49/50 准确率: 59.60%\n",
            "聚合方法: weighted_averaging | 回合 50/50 准确率: 60.69%\n",
            "\n",
            "--- 最终结果对比 ---\n",
            "零值填充聚合的准确率历史: ['8.97%', '11.44%', '16.98%', '42.10%', '53.66%', '55.66%', '56.64%', '57.55%', '57.69%', '57.74%', '57.40%', '58.05%', '57.24%', '58.98%', '58.04%', '58.23%', '59.62%', '58.78%', '59.45%', '59.10%', '58.32%', '60.29%', '59.49%', '60.32%', '61.52%', '60.95%', '59.94%', '60.56%', '61.17%', '61.16%', '61.41%', '62.17%', '61.28%', '62.65%', '61.78%', '63.26%', '62.99%', '62.73%', '62.92%', '63.81%', '62.45%', '62.70%', '64.45%', '62.87%', '63.80%', '64.69%', '64.24%', '64.04%', '64.72%', '63.51%']\n",
            "加权平均聚合的准确率历史: ['10.57%', '24.81%', '26.69%', '35.59%', '39.77%', '40.89%', '43.41%', '42.83%', '42.22%', '46.18%', '45.68%', '45.06%', '46.37%', '46.40%', '47.87%', '48.38%', '49.08%', '48.56%', '51.15%', '48.74%', '48.99%', '51.10%', '51.04%', '49.23%', '52.03%', '52.77%', '52.25%', '52.45%', '52.69%', '53.27%', '54.26%', '55.66%', '54.65%', '56.98%', '55.51%', '55.34%', '55.11%', '55.49%', '55.84%', '56.93%', '56.05%', '56.76%', '57.65%', '57.58%', '57.96%', '57.90%', '59.31%', '57.04%', '59.60%', '60.69%']\n"
          ]
        }
      ]
    },
    {
      "cell_type": "code",
      "source": [
        "import torch\n",
        "import torch.nn as nn\n",
        "from torch.utils.data import DataLoader, TensorDataset\n",
        "from torchvision.datasets import MNIST\n",
        "from torchvision.transforms import ToTensor\n",
        "from collections import defaultdict\n",
        "import numpy as np\n",
        "import copy\n",
        "from tqdm import tqdm\n",
        "\n",
        "# Hyperparameters\n",
        "NUM_CLIENTS = 10\n",
        "NUM_ROUNDS = 50\n",
        "LOCAL_EPOCHS = 5\n",
        "BATCH_SIZE = 32\n",
        "LEARNING_RATE = 0.01\n",
        "\n",
        "# LoRA hyperparameters\n",
        "LORA_R = 8\n",
        "LORA_ALPHA = 16\n",
        "\n",
        "# --- Data Preparation ---\n",
        "def prepare_non_iid_data():\n",
        "    train_data = MNIST(root='./data', train=True, download=True, transform=ToTensor())\n",
        "    test_data = MNIST(root='./data', train=False, download=True, transform=ToTensor())\n",
        "\n",
        "    data_by_label = defaultdict(list)\n",
        "    for img, label in zip(train_data.data, train_data.targets):\n",
        "        data_by_label[label.item()].append((img, label))\n",
        "\n",
        "    client_datasets = [[] for _ in range(NUM_CLIENTS)]\n",
        "    client_labels_per_client = 2\n",
        "    labels_list = list(data_by_label.keys())\n",
        "    for i in range(NUM_CLIENTS):\n",
        "        start_label_index = (i * client_labels_per_client) % len(labels_list)\n",
        "        labels_to_assign = [labels_list[start_label_index], labels_list[(start_label_index + 1) % len(labels_list)]]\n",
        "        for label in labels_to_assign:\n",
        "            client_datasets[i].extend(data_by_label[label])\n",
        "\n",
        "    client_dataloaders = []\n",
        "    client_data_sizes = []\n",
        "    for data in client_datasets:\n",
        "        imgs = torch.stack([d[0] for d in data]).unsqueeze(1).float() / 255.0\n",
        "        labels = torch.tensor([d[1] for d in data]).long()\n",
        "        dataset = TensorDataset(imgs, labels)\n",
        "        client_dataloaders.append(DataLoader(dataset, batch_size=BATCH_SIZE, shuffle=True))\n",
        "        client_data_sizes.append(len(dataset))\n",
        "\n",
        "    test_dataloader = DataLoader(test_data, batch_size=BATCH_SIZE, shuffle=False)\n",
        "\n",
        "    return client_dataloaders, client_data_sizes, test_dataloader\n",
        "\n",
        "# --- LoRA Module and Model Definition ---\n",
        "class LoRA_Linear(nn.Module):\n",
        "    def __init__(self, in_features, out_features, rank, alpha):\n",
        "        super().__init__()\n",
        "        self.rank = rank\n",
        "        self.alpha = alpha\n",
        "\n",
        "        self.base_layer = nn.Linear(in_features, out_features)\n",
        "\n",
        "        self.lora_A = nn.Parameter(torch.randn(in_features, rank) * 0.01)\n",
        "        self.lora_B = nn.Parameter(torch.zeros(rank, out_features))\n",
        "\n",
        "        self.scaling = self.alpha / self.rank\n",
        "        self.base_layer.weight.requires_grad = False\n",
        "        self.base_layer.bias.requires_grad = False\n",
        "\n",
        "    def forward(self, x):\n",
        "        base_output = self.base_layer(x)\n",
        "        lora_update = (x @ self.lora_A @ self.lora_B) * self.scaling\n",
        "        return base_output + lora_update\n",
        "\n",
        "class LoRAMNISTModel(nn.Module):\n",
        "    def __init__(self):\n",
        "        super().__init__()\n",
        "        self.flatten = nn.Flatten()\n",
        "        self.fc1 = LoRA_Linear(28*28, 128, LORA_R, LORA_ALPHA)\n",
        "        self.relu1 = nn.ReLU()\n",
        "        self.fc2 = LoRA_Linear(128, 64, LORA_R, LORA_ALPHA)\n",
        "        self.relu2 = nn.ReLU()\n",
        "        self.fc3 = LoRA_Linear(64, 10, LORA_R, LORA_ALPHA)\n",
        "\n",
        "    def forward(self, x):\n",
        "        x = self.flatten(x)\n",
        "        x = self.fc1(x)\n",
        "        x = self.relu1(x)\n",
        "        x = self.fc2(x)\n",
        "        x = self.relu2(x)\n",
        "        x = self.fc3(x)\n",
        "        return x\n",
        "\n",
        "# --- Evaluation and Training Functions ---\n",
        "def evaluate_model(model, dataloader):\n",
        "    model.eval()\n",
        "    correct = 0\n",
        "    total = 0\n",
        "    with torch.no_grad():\n",
        "        for imgs, labels in dataloader:\n",
        "            outputs = model(imgs)\n",
        "            _, predicted = torch.max(outputs.data, 1)\n",
        "            total += labels.size(0)\n",
        "            correct += (predicted == labels).sum().item()\n",
        "    return 100 * correct / total\n",
        "\n",
        "def train_federated_model(global_model, client_dataloaders, client_data_sizes, aggregation_method, test_dataloader):\n",
        "    history = []\n",
        "\n",
        "    for round_num in range(NUM_ROUNDS):\n",
        "        print(f\"--- Federated Round: {round_num + 1}/{NUM_ROUNDS} ---\")\n",
        "        client_lora_weights = []\n",
        "        local_accuracies = []\n",
        "\n",
        "        for i, dataloader in enumerate(tqdm(client_dataloaders, desc=\"Client Local Training\")):\n",
        "            client_model = copy.deepcopy(global_model)\n",
        "            optimizer = torch.optim.SGD(\n",
        "                [p for p in client_model.parameters() if p.requires_grad],\n",
        "                lr=LEARNING_RATE\n",
        "            )\n",
        "            criterion = nn.CrossEntropyLoss()\n",
        "\n",
        "            client_model.train()\n",
        "            for epoch in range(LOCAL_EPOCHS):\n",
        "                for imgs, labels in dataloader:\n",
        "                    optimizer.zero_grad()\n",
        "                    outputs = client_model(imgs)\n",
        "                    loss = criterion(outputs, labels)\n",
        "                    loss.backward()\n",
        "                    optimizer.step()\n",
        "\n",
        "            local_acc = evaluate_model(client_model, dataloader)\n",
        "            local_accuracies.append(local_acc)\n",
        "\n",
        "            lora_weights = {}\n",
        "            for name, module in client_model.named_modules():\n",
        "                if isinstance(module, LoRA_Linear):\n",
        "                    lora_weights[name] = {\n",
        "                        'A': module.lora_A.detach().clone(),\n",
        "                        'B': module.lora_B.detach().clone()\n",
        "                    }\n",
        "            client_lora_weights.append(lora_weights)\n",
        "\n",
        "        print(f\"Average Local Accuracy (Round {round_num + 1}): {np.mean(local_accuracies):.2f}%\")\n",
        "\n",
        "        # Aggregation step\n",
        "        if aggregation_method == 'zero_padding':\n",
        "            global_lora_updates = defaultdict(lambda: defaultdict(list))\n",
        "            for client_weights in client_lora_weights:\n",
        "                for name, weights in client_weights.items():\n",
        "                    global_lora_updates[name]['A'].append(weights['A'])\n",
        "                    global_lora_updates[name]['B'].append(weights['B'])\n",
        "\n",
        "            aggregated_weights = {}\n",
        "            for name, weights_list in global_lora_updates.items():\n",
        "                # Aggregate A\n",
        "                max_rank_A = max(w.shape[1] for w in weights_list['A'])\n",
        "                padded_A_list = [torch.zeros(w.shape[0], max_rank_A) if w.shape[1] < max_rank_A else w for w in weights_list['A']]\n",
        "                for i, w in enumerate(weights_list['A']):\n",
        "                    if w.shape[1] < max_rank_A:\n",
        "                        padded_A_list[i][:, :w.shape[1]] = w\n",
        "\n",
        "                # Aggregate B\n",
        "                max_rank_B = max(w.shape[0] for w in weights_list['B'])\n",
        "                padded_B_list = [torch.zeros(max_rank_B, w.shape[1]) if w.shape[0] < max_rank_B else w for w in weights_list['B']]\n",
        "                for i, w in enumerate(weights_list['B']):\n",
        "                    if w.shape[0] < max_rank_B:\n",
        "                        padded_B_list[i][:w.shape[0], :] = w\n",
        "\n",
        "                avg_A = torch.stack(padded_A_list).mean(dim=0)\n",
        "                avg_B = torch.stack(padded_B_list).mean(dim=0)\n",
        "                aggregated_weights[name] = {'A': avg_A, 'B': avg_B}\n",
        "\n",
        "        elif aggregation_method == 'weighted_averaging':\n",
        "            total_data_size = sum(client_data_sizes)\n",
        "            aggregated_weights = {}\n",
        "\n",
        "            for name in client_lora_weights[0].keys():\n",
        "                avg_A = torch.zeros_like(client_lora_weights[0][name]['A'])\n",
        "                avg_B = torch.zeros_like(client_lora_weights[0][name]['B'])\n",
        "                for i, client_weights in enumerate(client_lora_weights):\n",
        "                    weight = client_data_sizes[i] / total_data_size\n",
        "                    avg_A += client_weights[name]['A'] * weight\n",
        "                    avg_B += client_weights[name]['B'] * weight\n",
        "                aggregated_weights[name] = {'A': avg_A, 'B': avg_B}\n",
        "\n",
        "        # Update global model LoRA weights\n",
        "        for name, module in global_model.named_modules():\n",
        "            if isinstance(module, LoRA_Linear):\n",
        "                module.lora_A.data = aggregated_weights[name]['A']\n",
        "                module.lora_B.data = aggregated_weights[name]['B']\n",
        "\n",
        "        # Evaluate global model\n",
        "        accuracy = evaluate_model(global_model, test_dataloader)\n",
        "        print(f\"Global Accuracy (Round {round_num + 1}): {accuracy:.2f}%\")\n",
        "        history.append(accuracy)\n",
        "    return history\n",
        "\n",
        "if __name__ == '__main__':\n",
        "    client_dataloaders, client_data_sizes, test_dataloader = prepare_non_iid_data()\n",
        "\n",
        "    print(\"--- Starting with Zero-Padding Aggregation ---\")\n",
        "    global_model_zp = LoRAMNISTModel()\n",
        "    history_zp = train_federated_model(global_model_zp, client_dataloaders, client_data_sizes, 'zero_padding', test_dataloader)\n",
        "\n",
        "    print(\"\\n\" + \"=\"*50 + \"\\n\")\n",
        "\n",
        "    print(\"--- Starting with Weighted Averaging Aggregation ---\")\n",
        "    global_model_wa = LoRAMNISTModel()\n",
        "    history_wa = train_federated_model(global_model_wa, client_dataloaders, client_data_sizes, 'weighted_averaging', test_dataloader)\n",
        "\n",
        "    print(\"\\n--- Final Results Comparison ---\")\n",
        "    print(\"Accuracy History (Zero-Padding):\", [f\"{acc:.2f}%\" for acc in history_zp])\n",
        "    print(\"Accuracy History (Weighted Averaging):\", [f\"{acc:.2f}%\" for acc in history_wa])"
      ],
      "metadata": {
        "colab": {
          "base_uri": "https://localhost:8080/"
        },
        "id": "U8Pkmnt9wtm8",
        "outputId": "2c044589-8ec2-45ab-de6d-4675a554ed97"
      },
      "execution_count": null,
      "outputs": [
        {
          "output_type": "stream",
          "name": "stdout",
          "text": [
            "--- Starting with Zero-Padding Aggregation ---\n",
            "--- Federated Round: 1/50 ---\n"
          ]
        },
        {
          "output_type": "stream",
          "name": "stderr",
          "text": [
            "Client Local Training: 100%|██████████| 10/10 [00:37<00:00,  3.75s/it]\n"
          ]
        },
        {
          "output_type": "stream",
          "name": "stdout",
          "text": [
            "Average Local Accuracy (Round 1): 98.73%\n",
            "Global Accuracy (Round 1): 14.15%\n",
            "--- Federated Round: 2/50 ---\n"
          ]
        },
        {
          "output_type": "stream",
          "name": "stderr",
          "text": [
            "Client Local Training: 100%|██████████| 10/10 [00:37<00:00,  3.80s/it]\n"
          ]
        },
        {
          "output_type": "stream",
          "name": "stdout",
          "text": [
            "Average Local Accuracy (Round 2): 99.10%\n",
            "Global Accuracy (Round 2): 14.07%\n",
            "--- Federated Round: 3/50 ---\n"
          ]
        },
        {
          "output_type": "stream",
          "name": "stderr",
          "text": [
            "Client Local Training: 100%|██████████| 10/10 [00:37<00:00,  3.78s/it]\n"
          ]
        },
        {
          "output_type": "stream",
          "name": "stdout",
          "text": [
            "Average Local Accuracy (Round 3): 99.14%\n",
            "Global Accuracy (Round 3): 29.49%\n",
            "--- Federated Round: 4/50 ---\n"
          ]
        },
        {
          "output_type": "stream",
          "name": "stderr",
          "text": [
            "Client Local Training: 100%|██████████| 10/10 [00:38<00:00,  3.84s/it]\n"
          ]
        },
        {
          "output_type": "stream",
          "name": "stdout",
          "text": [
            "Average Local Accuracy (Round 4): 98.80%\n",
            "Global Accuracy (Round 4): 34.76%\n",
            "--- Federated Round: 5/50 ---\n"
          ]
        },
        {
          "output_type": "stream",
          "name": "stderr",
          "text": [
            "Client Local Training: 100%|██████████| 10/10 [00:39<00:00,  3.98s/it]\n"
          ]
        },
        {
          "output_type": "stream",
          "name": "stdout",
          "text": [
            "Average Local Accuracy (Round 5): 99.28%\n",
            "Global Accuracy (Round 5): 37.50%\n",
            "--- Federated Round: 6/50 ---\n"
          ]
        },
        {
          "output_type": "stream",
          "name": "stderr",
          "text": [
            "Client Local Training: 100%|██████████| 10/10 [00:41<00:00,  4.17s/it]\n"
          ]
        },
        {
          "output_type": "stream",
          "name": "stdout",
          "text": [
            "Average Local Accuracy (Round 6): 99.35%\n",
            "Global Accuracy (Round 6): 39.80%\n",
            "--- Federated Round: 7/50 ---\n"
          ]
        },
        {
          "output_type": "stream",
          "name": "stderr",
          "text": [
            "Client Local Training: 100%|██████████| 10/10 [00:39<00:00,  3.99s/it]\n"
          ]
        },
        {
          "output_type": "stream",
          "name": "stdout",
          "text": [
            "Average Local Accuracy (Round 7): 99.15%\n",
            "Global Accuracy (Round 7): 39.42%\n",
            "--- Federated Round: 8/50 ---\n"
          ]
        },
        {
          "output_type": "stream",
          "name": "stderr",
          "text": [
            "Client Local Training: 100%|██████████| 10/10 [00:39<00:00,  3.94s/it]\n"
          ]
        },
        {
          "output_type": "stream",
          "name": "stdout",
          "text": [
            "Average Local Accuracy (Round 8): 99.29%\n",
            "Global Accuracy (Round 8): 42.28%\n",
            "--- Federated Round: 9/50 ---\n"
          ]
        },
        {
          "output_type": "stream",
          "name": "stderr",
          "text": [
            "Client Local Training: 100%|██████████| 10/10 [00:38<00:00,  3.85s/it]\n"
          ]
        },
        {
          "output_type": "stream",
          "name": "stdout",
          "text": [
            "Average Local Accuracy (Round 9): 94.26%\n",
            "Global Accuracy (Round 9): 42.01%\n",
            "--- Federated Round: 10/50 ---\n"
          ]
        },
        {
          "output_type": "stream",
          "name": "stderr",
          "text": [
            "Client Local Training: 100%|██████████| 10/10 [00:38<00:00,  3.86s/it]\n"
          ]
        },
        {
          "output_type": "stream",
          "name": "stdout",
          "text": [
            "Average Local Accuracy (Round 10): 99.42%\n",
            "Global Accuracy (Round 10): 44.60%\n",
            "--- Federated Round: 11/50 ---\n"
          ]
        },
        {
          "output_type": "stream",
          "name": "stderr",
          "text": [
            "Client Local Training: 100%|██████████| 10/10 [00:38<00:00,  3.85s/it]\n"
          ]
        },
        {
          "output_type": "stream",
          "name": "stdout",
          "text": [
            "Average Local Accuracy (Round 11): 99.49%\n",
            "Global Accuracy (Round 11): 42.02%\n",
            "--- Federated Round: 12/50 ---\n"
          ]
        },
        {
          "output_type": "stream",
          "name": "stderr",
          "text": [
            "Client Local Training: 100%|██████████| 10/10 [00:39<00:00,  3.97s/it]\n"
          ]
        },
        {
          "output_type": "stream",
          "name": "stdout",
          "text": [
            "Average Local Accuracy (Round 12): 99.41%\n",
            "Global Accuracy (Round 12): 43.28%\n",
            "--- Federated Round: 13/50 ---\n"
          ]
        },
        {
          "output_type": "stream",
          "name": "stderr",
          "text": [
            "Client Local Training: 100%|██████████| 10/10 [00:39<00:00,  3.92s/it]\n"
          ]
        },
        {
          "output_type": "stream",
          "name": "stdout",
          "text": [
            "Average Local Accuracy (Round 13): 99.34%\n",
            "Global Accuracy (Round 13): 45.27%\n",
            "--- Federated Round: 14/50 ---\n"
          ]
        },
        {
          "output_type": "stream",
          "name": "stderr",
          "text": [
            "Client Local Training: 100%|██████████| 10/10 [00:39<00:00,  3.95s/it]\n"
          ]
        },
        {
          "output_type": "stream",
          "name": "stdout",
          "text": [
            "Average Local Accuracy (Round 14): 99.55%\n",
            "Global Accuracy (Round 14): 41.59%\n",
            "--- Federated Round: 15/50 ---\n"
          ]
        },
        {
          "output_type": "stream",
          "name": "stderr",
          "text": [
            "Client Local Training: 100%|██████████| 10/10 [00:42<00:00,  4.27s/it]\n"
          ]
        },
        {
          "output_type": "stream",
          "name": "stdout",
          "text": [
            "Average Local Accuracy (Round 15): 99.53%\n",
            "Global Accuracy (Round 15): 42.83%\n",
            "--- Federated Round: 16/50 ---\n"
          ]
        },
        {
          "output_type": "stream",
          "name": "stderr",
          "text": [
            "Client Local Training: 100%|██████████| 10/10 [00:39<00:00,  3.91s/it]\n"
          ]
        },
        {
          "output_type": "stream",
          "name": "stdout",
          "text": [
            "Average Local Accuracy (Round 16): 99.52%\n",
            "Global Accuracy (Round 16): 42.11%\n",
            "--- Federated Round: 17/50 ---\n"
          ]
        },
        {
          "output_type": "stream",
          "name": "stderr",
          "text": [
            "Client Local Training: 100%|██████████| 10/10 [00:38<00:00,  3.81s/it]\n"
          ]
        },
        {
          "output_type": "stream",
          "name": "stdout",
          "text": [
            "Average Local Accuracy (Round 17): 99.60%\n",
            "Global Accuracy (Round 17): 42.90%\n",
            "--- Federated Round: 18/50 ---\n"
          ]
        },
        {
          "output_type": "stream",
          "name": "stderr",
          "text": [
            "Client Local Training: 100%|██████████| 10/10 [00:39<00:00,  3.96s/it]\n"
          ]
        },
        {
          "output_type": "stream",
          "name": "stdout",
          "text": [
            "Average Local Accuracy (Round 18): 98.80%\n",
            "Global Accuracy (Round 18): 42.65%\n",
            "--- Federated Round: 19/50 ---\n"
          ]
        },
        {
          "output_type": "stream",
          "name": "stderr",
          "text": [
            "Client Local Training: 100%|██████████| 10/10 [00:38<00:00,  3.88s/it]\n"
          ]
        },
        {
          "output_type": "stream",
          "name": "stdout",
          "text": [
            "Average Local Accuracy (Round 19): 99.67%\n",
            "Global Accuracy (Round 19): 41.19%\n",
            "--- Federated Round: 20/50 ---\n"
          ]
        },
        {
          "output_type": "stream",
          "name": "stderr",
          "text": [
            "Client Local Training: 100%|██████████| 10/10 [00:39<00:00,  3.91s/it]\n"
          ]
        },
        {
          "output_type": "stream",
          "name": "stdout",
          "text": [
            "Average Local Accuracy (Round 20): 99.64%\n",
            "Global Accuracy (Round 20): 43.95%\n",
            "--- Federated Round: 21/50 ---\n"
          ]
        },
        {
          "output_type": "stream",
          "name": "stderr",
          "text": [
            "Client Local Training: 100%|██████████| 10/10 [00:38<00:00,  3.83s/it]\n"
          ]
        },
        {
          "output_type": "stream",
          "name": "stdout",
          "text": [
            "Average Local Accuracy (Round 21): 98.60%\n",
            "Global Accuracy (Round 21): 42.01%\n",
            "--- Federated Round: 22/50 ---\n"
          ]
        },
        {
          "output_type": "stream",
          "name": "stderr",
          "text": [
            "Client Local Training: 100%|██████████| 10/10 [00:38<00:00,  3.85s/it]\n"
          ]
        },
        {
          "output_type": "stream",
          "name": "stdout",
          "text": [
            "Average Local Accuracy (Round 22): 99.35%\n",
            "Global Accuracy (Round 22): 43.63%\n",
            "--- Federated Round: 23/50 ---\n"
          ]
        },
        {
          "output_type": "stream",
          "name": "stderr",
          "text": [
            "Client Local Training: 100%|██████████| 10/10 [00:38<00:00,  3.83s/it]\n"
          ]
        },
        {
          "output_type": "stream",
          "name": "stdout",
          "text": [
            "Average Local Accuracy (Round 23): 99.62%\n",
            "Global Accuracy (Round 23): 44.67%\n",
            "--- Federated Round: 24/50 ---\n"
          ]
        },
        {
          "output_type": "stream",
          "name": "stderr",
          "text": [
            "Client Local Training: 100%|██████████| 10/10 [00:40<00:00,  4.06s/it]\n"
          ]
        },
        {
          "output_type": "stream",
          "name": "stdout",
          "text": [
            "Average Local Accuracy (Round 24): 99.69%\n",
            "Global Accuracy (Round 24): 44.46%\n",
            "--- Federated Round: 25/50 ---\n"
          ]
        },
        {
          "output_type": "stream",
          "name": "stderr",
          "text": [
            "Client Local Training: 100%|██████████| 10/10 [00:38<00:00,  3.85s/it]\n"
          ]
        },
        {
          "output_type": "stream",
          "name": "stdout",
          "text": [
            "Average Local Accuracy (Round 25): 99.68%\n",
            "Global Accuracy (Round 25): 39.76%\n",
            "--- Federated Round: 26/50 ---\n"
          ]
        },
        {
          "output_type": "stream",
          "name": "stderr",
          "text": [
            "Client Local Training: 100%|██████████| 10/10 [00:38<00:00,  3.82s/it]\n"
          ]
        },
        {
          "output_type": "stream",
          "name": "stdout",
          "text": [
            "Average Local Accuracy (Round 26): 99.64%\n",
            "Global Accuracy (Round 26): 45.82%\n",
            "--- Federated Round: 27/50 ---\n"
          ]
        },
        {
          "output_type": "stream",
          "name": "stderr",
          "text": [
            "Client Local Training: 100%|██████████| 10/10 [00:39<00:00,  3.94s/it]\n"
          ]
        },
        {
          "output_type": "stream",
          "name": "stdout",
          "text": [
            "Average Local Accuracy (Round 27): 99.68%\n",
            "Global Accuracy (Round 27): 47.53%\n",
            "--- Federated Round: 28/50 ---\n"
          ]
        },
        {
          "output_type": "stream",
          "name": "stderr",
          "text": [
            "Client Local Training: 100%|██████████| 10/10 [00:38<00:00,  3.86s/it]\n"
          ]
        },
        {
          "output_type": "stream",
          "name": "stdout",
          "text": [
            "Average Local Accuracy (Round 28): 99.74%\n",
            "Global Accuracy (Round 28): 47.60%\n",
            "--- Federated Round: 29/50 ---\n"
          ]
        },
        {
          "output_type": "stream",
          "name": "stderr",
          "text": [
            "Client Local Training: 100%|██████████| 10/10 [00:38<00:00,  3.89s/it]\n"
          ]
        },
        {
          "output_type": "stream",
          "name": "stdout",
          "text": [
            "Average Local Accuracy (Round 29): 99.76%\n",
            "Global Accuracy (Round 29): 45.96%\n",
            "--- Federated Round: 30/50 ---\n"
          ]
        },
        {
          "output_type": "stream",
          "name": "stderr",
          "text": [
            "Client Local Training: 100%|██████████| 10/10 [00:41<00:00,  4.13s/it]\n"
          ]
        },
        {
          "output_type": "stream",
          "name": "stdout",
          "text": [
            "Average Local Accuracy (Round 30): 99.75%\n",
            "Global Accuracy (Round 30): 47.12%\n",
            "--- Federated Round: 31/50 ---\n"
          ]
        },
        {
          "output_type": "stream",
          "name": "stderr",
          "text": [
            "Client Local Training: 100%|██████████| 10/10 [00:39<00:00,  3.93s/it]\n"
          ]
        },
        {
          "output_type": "stream",
          "name": "stdout",
          "text": [
            "Average Local Accuracy (Round 31): 99.55%\n",
            "Global Accuracy (Round 31): 47.26%\n",
            "--- Federated Round: 32/50 ---\n"
          ]
        },
        {
          "output_type": "stream",
          "name": "stderr",
          "text": [
            "Client Local Training: 100%|██████████| 10/10 [00:38<00:00,  3.82s/it]\n"
          ]
        },
        {
          "output_type": "stream",
          "name": "stdout",
          "text": [
            "Average Local Accuracy (Round 32): 99.79%\n",
            "Global Accuracy (Round 32): 47.72%\n",
            "--- Federated Round: 33/50 ---\n"
          ]
        },
        {
          "output_type": "stream",
          "name": "stderr",
          "text": [
            "Client Local Training: 100%|██████████| 10/10 [00:38<00:00,  3.83s/it]\n"
          ]
        },
        {
          "output_type": "stream",
          "name": "stdout",
          "text": [
            "Average Local Accuracy (Round 33): 99.71%\n",
            "Global Accuracy (Round 33): 48.83%\n",
            "--- Federated Round: 34/50 ---\n"
          ]
        },
        {
          "output_type": "stream",
          "name": "stderr",
          "text": [
            "Client Local Training: 100%|██████████| 10/10 [00:37<00:00,  3.79s/it]\n"
          ]
        },
        {
          "output_type": "stream",
          "name": "stdout",
          "text": [
            "Average Local Accuracy (Round 34): 99.82%\n",
            "Global Accuracy (Round 34): 46.55%\n",
            "--- Federated Round: 35/50 ---\n"
          ]
        },
        {
          "output_type": "stream",
          "name": "stderr",
          "text": [
            "Client Local Training: 100%|██████████| 10/10 [00:38<00:00,  3.84s/it]\n"
          ]
        },
        {
          "output_type": "stream",
          "name": "stdout",
          "text": [
            "Average Local Accuracy (Round 35): 99.78%\n",
            "Global Accuracy (Round 35): 49.56%\n",
            "--- Federated Round: 36/50 ---\n"
          ]
        },
        {
          "output_type": "stream",
          "name": "stderr",
          "text": [
            "Client Local Training: 100%|██████████| 10/10 [00:39<00:00,  3.91s/it]\n"
          ]
        },
        {
          "output_type": "stream",
          "name": "stdout",
          "text": [
            "Average Local Accuracy (Round 36): 99.50%\n",
            "Global Accuracy (Round 36): 50.18%\n",
            "--- Federated Round: 37/50 ---\n"
          ]
        },
        {
          "output_type": "stream",
          "name": "stderr",
          "text": [
            "Client Local Training: 100%|██████████| 10/10 [00:37<00:00,  3.77s/it]\n"
          ]
        },
        {
          "output_type": "stream",
          "name": "stdout",
          "text": [
            "Average Local Accuracy (Round 37): 99.82%\n",
            "Global Accuracy (Round 37): 48.53%\n",
            "--- Federated Round: 38/50 ---\n"
          ]
        },
        {
          "output_type": "stream",
          "name": "stderr",
          "text": [
            "Client Local Training: 100%|██████████| 10/10 [00:37<00:00,  3.78s/it]\n"
          ]
        },
        {
          "output_type": "stream",
          "name": "stdout",
          "text": [
            "Average Local Accuracy (Round 38): 99.82%\n",
            "Global Accuracy (Round 38): 48.77%\n",
            "--- Federated Round: 39/50 ---\n"
          ]
        },
        {
          "output_type": "stream",
          "name": "stderr",
          "text": [
            "Client Local Training: 100%|██████████| 10/10 [00:37<00:00,  3.80s/it]\n"
          ]
        },
        {
          "output_type": "stream",
          "name": "stdout",
          "text": [
            "Average Local Accuracy (Round 39): 99.82%\n",
            "Global Accuracy (Round 39): 49.82%\n",
            "--- Federated Round: 40/50 ---\n"
          ]
        },
        {
          "output_type": "stream",
          "name": "stderr",
          "text": [
            "Client Local Training: 100%|██████████| 10/10 [00:37<00:00,  3.78s/it]\n"
          ]
        },
        {
          "output_type": "stream",
          "name": "stdout",
          "text": [
            "Average Local Accuracy (Round 40): 99.84%\n",
            "Global Accuracy (Round 40): 48.76%\n",
            "--- Federated Round: 41/50 ---\n"
          ]
        },
        {
          "output_type": "stream",
          "name": "stderr",
          "text": [
            "Client Local Training: 100%|██████████| 10/10 [00:37<00:00,  3.76s/it]\n"
          ]
        },
        {
          "output_type": "stream",
          "name": "stdout",
          "text": [
            "Average Local Accuracy (Round 41): 99.86%\n",
            "Global Accuracy (Round 41): 50.00%\n",
            "--- Federated Round: 42/50 ---\n"
          ]
        },
        {
          "output_type": "stream",
          "name": "stderr",
          "text": [
            "Client Local Training: 100%|██████████| 10/10 [00:40<00:00,  4.01s/it]\n"
          ]
        },
        {
          "output_type": "stream",
          "name": "stdout",
          "text": [
            "Average Local Accuracy (Round 42): 99.86%\n",
            "Global Accuracy (Round 42): 49.94%\n",
            "--- Federated Round: 43/50 ---\n"
          ]
        },
        {
          "output_type": "stream",
          "name": "stderr",
          "text": [
            "Client Local Training: 100%|██████████| 10/10 [00:39<00:00,  3.97s/it]\n"
          ]
        },
        {
          "output_type": "stream",
          "name": "stdout",
          "text": [
            "Average Local Accuracy (Round 43): 99.83%\n",
            "Global Accuracy (Round 43): 49.83%\n",
            "--- Federated Round: 44/50 ---\n"
          ]
        },
        {
          "output_type": "stream",
          "name": "stderr",
          "text": [
            "Client Local Training: 100%|██████████| 10/10 [00:40<00:00,  4.02s/it]\n"
          ]
        },
        {
          "output_type": "stream",
          "name": "stdout",
          "text": [
            "Average Local Accuracy (Round 44): 99.59%\n",
            "Global Accuracy (Round 44): 48.36%\n",
            "--- Federated Round: 45/50 ---\n"
          ]
        },
        {
          "output_type": "stream",
          "name": "stderr",
          "text": [
            "Client Local Training: 100%|██████████| 10/10 [00:39<00:00,  3.98s/it]\n"
          ]
        },
        {
          "output_type": "stream",
          "name": "stdout",
          "text": [
            "Average Local Accuracy (Round 45): 99.79%\n",
            "Global Accuracy (Round 45): 50.46%\n",
            "--- Federated Round: 46/50 ---\n"
          ]
        },
        {
          "output_type": "stream",
          "name": "stderr",
          "text": [
            "Client Local Training: 100%|██████████| 10/10 [00:39<00:00,  3.94s/it]\n"
          ]
        },
        {
          "output_type": "stream",
          "name": "stdout",
          "text": [
            "Average Local Accuracy (Round 46): 99.84%\n",
            "Global Accuracy (Round 46): 48.35%\n",
            "--- Federated Round: 47/50 ---\n"
          ]
        },
        {
          "output_type": "stream",
          "name": "stderr",
          "text": [
            "Client Local Training: 100%|██████████| 10/10 [00:39<00:00,  3.91s/it]\n"
          ]
        },
        {
          "output_type": "stream",
          "name": "stdout",
          "text": [
            "Average Local Accuracy (Round 47): 99.92%\n",
            "Global Accuracy (Round 47): 50.03%\n",
            "--- Federated Round: 48/50 ---\n"
          ]
        },
        {
          "output_type": "stream",
          "name": "stderr",
          "text": [
            "Client Local Training: 100%|██████████| 10/10 [00:40<00:00,  4.01s/it]\n"
          ]
        },
        {
          "output_type": "stream",
          "name": "stdout",
          "text": [
            "Average Local Accuracy (Round 48): 99.92%\n",
            "Global Accuracy (Round 48): 46.47%\n",
            "--- Federated Round: 49/50 ---\n"
          ]
        },
        {
          "output_type": "stream",
          "name": "stderr",
          "text": [
            "Client Local Training: 100%|██████████| 10/10 [00:39<00:00,  3.99s/it]\n"
          ]
        },
        {
          "output_type": "stream",
          "name": "stdout",
          "text": [
            "Average Local Accuracy (Round 49): 99.91%\n",
            "Global Accuracy (Round 49): 50.23%\n",
            "--- Federated Round: 50/50 ---\n"
          ]
        },
        {
          "output_type": "stream",
          "name": "stderr",
          "text": [
            "Client Local Training: 100%|██████████| 10/10 [00:39<00:00,  3.91s/it]\n"
          ]
        },
        {
          "output_type": "stream",
          "name": "stdout",
          "text": [
            "Average Local Accuracy (Round 50): 99.92%\n",
            "Global Accuracy (Round 50): 46.12%\n",
            "\n",
            "==================================================\n",
            "\n",
            "--- Starting with Weighted Averaging Aggregation ---\n",
            "--- Federated Round: 1/50 ---\n"
          ]
        },
        {
          "output_type": "stream",
          "name": "stderr",
          "text": [
            "Client Local Training: 100%|██████████| 10/10 [00:38<00:00,  3.88s/it]\n"
          ]
        },
        {
          "output_type": "stream",
          "name": "stdout",
          "text": [
            "Average Local Accuracy (Round 1): 98.60%\n",
            "Global Accuracy (Round 1): 20.67%\n",
            "--- Federated Round: 2/50 ---\n"
          ]
        },
        {
          "output_type": "stream",
          "name": "stderr",
          "text": [
            "Client Local Training: 100%|██████████| 10/10 [00:38<00:00,  3.89s/it]\n"
          ]
        },
        {
          "output_type": "stream",
          "name": "stdout",
          "text": [
            "Average Local Accuracy (Round 2): 98.98%\n",
            "Global Accuracy (Round 2): 24.92%\n",
            "--- Federated Round: 3/50 ---\n"
          ]
        },
        {
          "output_type": "stream",
          "name": "stderr",
          "text": [
            "Client Local Training: 100%|██████████| 10/10 [00:39<00:00,  3.93s/it]\n"
          ]
        },
        {
          "output_type": "stream",
          "name": "stdout",
          "text": [
            "Average Local Accuracy (Round 3): 99.15%\n",
            "Global Accuracy (Round 3): 23.81%\n",
            "--- Federated Round: 4/50 ---\n"
          ]
        },
        {
          "output_type": "stream",
          "name": "stderr",
          "text": [
            "Client Local Training: 100%|██████████| 10/10 [00:40<00:00,  4.10s/it]\n"
          ]
        },
        {
          "output_type": "stream",
          "name": "stdout",
          "text": [
            "Average Local Accuracy (Round 4): 99.20%\n",
            "Global Accuracy (Round 4): 24.59%\n",
            "--- Federated Round: 5/50 ---\n"
          ]
        },
        {
          "output_type": "stream",
          "name": "stderr",
          "text": [
            "Client Local Training: 100%|██████████| 10/10 [00:39<00:00,  3.99s/it]\n"
          ]
        },
        {
          "output_type": "stream",
          "name": "stdout",
          "text": [
            "Average Local Accuracy (Round 5): 99.31%\n",
            "Global Accuracy (Round 5): 25.86%\n",
            "--- Federated Round: 6/50 ---\n"
          ]
        },
        {
          "output_type": "stream",
          "name": "stderr",
          "text": [
            "Client Local Training: 100%|██████████| 10/10 [00:38<00:00,  3.90s/it]\n"
          ]
        },
        {
          "output_type": "stream",
          "name": "stdout",
          "text": [
            "Average Local Accuracy (Round 6): 96.45%\n",
            "Global Accuracy (Round 6): 25.08%\n",
            "--- Federated Round: 7/50 ---\n"
          ]
        },
        {
          "output_type": "stream",
          "name": "stderr",
          "text": [
            "Client Local Training: 100%|██████████| 10/10 [00:38<00:00,  3.89s/it]\n"
          ]
        },
        {
          "output_type": "stream",
          "name": "stdout",
          "text": [
            "Average Local Accuracy (Round 7): 99.22%\n",
            "Global Accuracy (Round 7): 27.39%\n",
            "--- Federated Round: 8/50 ---\n"
          ]
        },
        {
          "output_type": "stream",
          "name": "stderr",
          "text": [
            "Client Local Training: 100%|██████████| 10/10 [00:39<00:00,  3.97s/it]\n"
          ]
        },
        {
          "output_type": "stream",
          "name": "stdout",
          "text": [
            "Average Local Accuracy (Round 8): 99.25%\n",
            "Global Accuracy (Round 8): 25.41%\n",
            "--- Federated Round: 9/50 ---\n"
          ]
        },
        {
          "output_type": "stream",
          "name": "stderr",
          "text": [
            "Client Local Training: 100%|██████████| 10/10 [00:40<00:00,  4.00s/it]\n"
          ]
        },
        {
          "output_type": "stream",
          "name": "stdout",
          "text": [
            "Average Local Accuracy (Round 9): 99.23%\n",
            "Global Accuracy (Round 9): 27.28%\n",
            "--- Federated Round: 10/50 ---\n"
          ]
        },
        {
          "output_type": "stream",
          "name": "stderr",
          "text": [
            "Client Local Training: 100%|██████████| 10/10 [00:40<00:00,  4.07s/it]\n"
          ]
        },
        {
          "output_type": "stream",
          "name": "stdout",
          "text": [
            "Average Local Accuracy (Round 10): 99.26%\n",
            "Global Accuracy (Round 10): 25.13%\n",
            "--- Federated Round: 11/50 ---\n"
          ]
        },
        {
          "output_type": "stream",
          "name": "stderr",
          "text": [
            "Client Local Training: 100%|██████████| 10/10 [00:39<00:00,  3.93s/it]\n"
          ]
        },
        {
          "output_type": "stream",
          "name": "stdout",
          "text": [
            "Average Local Accuracy (Round 11): 99.28%\n",
            "Global Accuracy (Round 11): 27.91%\n",
            "--- Federated Round: 12/50 ---\n"
          ]
        },
        {
          "output_type": "stream",
          "name": "stderr",
          "text": [
            "Client Local Training: 100%|██████████| 10/10 [00:38<00:00,  3.89s/it]\n"
          ]
        },
        {
          "output_type": "stream",
          "name": "stdout",
          "text": [
            "Average Local Accuracy (Round 12): 99.28%\n",
            "Global Accuracy (Round 12): 25.12%\n",
            "--- Federated Round: 13/50 ---\n"
          ]
        },
        {
          "output_type": "stream",
          "name": "stderr",
          "text": [
            "Client Local Training: 100%|██████████| 10/10 [00:39<00:00,  3.98s/it]\n"
          ]
        },
        {
          "output_type": "stream",
          "name": "stdout",
          "text": [
            "Average Local Accuracy (Round 13): 99.16%\n",
            "Global Accuracy (Round 13): 24.38%\n",
            "--- Federated Round: 14/50 ---\n"
          ]
        },
        {
          "output_type": "stream",
          "name": "stderr",
          "text": [
            "Client Local Training: 100%|██████████| 10/10 [00:43<00:00,  4.34s/it]\n"
          ]
        },
        {
          "output_type": "stream",
          "name": "stdout",
          "text": [
            "Average Local Accuracy (Round 14): 99.40%\n",
            "Global Accuracy (Round 14): 27.74%\n",
            "--- Federated Round: 15/50 ---\n"
          ]
        },
        {
          "output_type": "stream",
          "name": "stderr",
          "text": [
            "Client Local Training: 100%|██████████| 10/10 [00:41<00:00,  4.13s/it]\n"
          ]
        },
        {
          "output_type": "stream",
          "name": "stdout",
          "text": [
            "Average Local Accuracy (Round 15): 99.32%\n",
            "Global Accuracy (Round 15): 28.05%\n",
            "--- Federated Round: 16/50 ---\n"
          ]
        },
        {
          "output_type": "stream",
          "name": "stderr",
          "text": [
            "Client Local Training: 100%|██████████| 10/10 [00:42<00:00,  4.27s/it]\n"
          ]
        },
        {
          "output_type": "stream",
          "name": "stdout",
          "text": [
            "Average Local Accuracy (Round 16): 99.34%\n",
            "Global Accuracy (Round 16): 30.60%\n",
            "--- Federated Round: 17/50 ---\n"
          ]
        },
        {
          "output_type": "stream",
          "name": "stderr",
          "text": [
            "Client Local Training: 100%|██████████| 10/10 [00:39<00:00,  3.95s/it]\n"
          ]
        },
        {
          "output_type": "stream",
          "name": "stdout",
          "text": [
            "Average Local Accuracy (Round 17): 99.45%\n",
            "Global Accuracy (Round 17): 31.27%\n",
            "--- Federated Round: 18/50 ---\n"
          ]
        },
        {
          "output_type": "stream",
          "name": "stderr",
          "text": [
            "Client Local Training: 100%|██████████| 10/10 [00:39<00:00,  3.93s/it]\n"
          ]
        },
        {
          "output_type": "stream",
          "name": "stdout",
          "text": [
            "Average Local Accuracy (Round 18): 99.44%\n",
            "Global Accuracy (Round 18): 33.42%\n",
            "--- Federated Round: 19/50 ---\n"
          ]
        },
        {
          "output_type": "stream",
          "name": "stderr",
          "text": [
            "Client Local Training: 100%|██████████| 10/10 [00:38<00:00,  3.88s/it]\n"
          ]
        },
        {
          "output_type": "stream",
          "name": "stdout",
          "text": [
            "Average Local Accuracy (Round 19): 99.46%\n",
            "Global Accuracy (Round 19): 31.53%\n",
            "--- Federated Round: 20/50 ---\n"
          ]
        },
        {
          "output_type": "stream",
          "name": "stderr",
          "text": [
            "Client Local Training: 100%|██████████| 10/10 [00:38<00:00,  3.84s/it]\n"
          ]
        },
        {
          "output_type": "stream",
          "name": "stdout",
          "text": [
            "Average Local Accuracy (Round 20): 97.68%\n",
            "Global Accuracy (Round 20): 30.32%\n",
            "--- Federated Round: 21/50 ---\n"
          ]
        },
        {
          "output_type": "stream",
          "name": "stderr",
          "text": [
            "Client Local Training: 100%|██████████| 10/10 [00:39<00:00,  3.93s/it]\n"
          ]
        },
        {
          "output_type": "stream",
          "name": "stdout",
          "text": [
            "Average Local Accuracy (Round 21): 99.63%\n",
            "Global Accuracy (Round 21): 31.57%\n",
            "--- Federated Round: 22/50 ---\n"
          ]
        },
        {
          "output_type": "stream",
          "name": "stderr",
          "text": [
            "Client Local Training: 100%|██████████| 10/10 [00:39<00:00,  3.94s/it]\n"
          ]
        },
        {
          "output_type": "stream",
          "name": "stdout",
          "text": [
            "Average Local Accuracy (Round 22): 99.58%\n",
            "Global Accuracy (Round 22): 31.62%\n",
            "--- Federated Round: 23/50 ---\n"
          ]
        },
        {
          "output_type": "stream",
          "name": "stderr",
          "text": [
            "Client Local Training: 100%|██████████| 10/10 [00:39<00:00,  3.99s/it]\n"
          ]
        },
        {
          "output_type": "stream",
          "name": "stdout",
          "text": [
            "Average Local Accuracy (Round 23): 99.60%\n",
            "Global Accuracy (Round 23): 31.16%\n",
            "--- Federated Round: 24/50 ---\n"
          ]
        },
        {
          "output_type": "stream",
          "name": "stderr",
          "text": [
            "Client Local Training: 100%|██████████| 10/10 [00:39<00:00,  3.91s/it]\n"
          ]
        },
        {
          "output_type": "stream",
          "name": "stdout",
          "text": [
            "Average Local Accuracy (Round 24): 99.64%\n",
            "Global Accuracy (Round 24): 32.58%\n",
            "--- Federated Round: 25/50 ---\n"
          ]
        },
        {
          "output_type": "stream",
          "name": "stderr",
          "text": [
            "Client Local Training: 100%|██████████| 10/10 [00:38<00:00,  3.87s/it]\n"
          ]
        },
        {
          "output_type": "stream",
          "name": "stdout",
          "text": [
            "Average Local Accuracy (Round 25): 99.70%\n",
            "Global Accuracy (Round 25): 30.87%\n",
            "--- Federated Round: 26/50 ---\n"
          ]
        },
        {
          "output_type": "stream",
          "name": "stderr",
          "text": [
            "Client Local Training: 100%|██████████| 10/10 [00:38<00:00,  3.86s/it]\n"
          ]
        },
        {
          "output_type": "stream",
          "name": "stdout",
          "text": [
            "Average Local Accuracy (Round 26): 99.62%\n",
            "Global Accuracy (Round 26): 30.63%\n",
            "--- Federated Round: 27/50 ---\n"
          ]
        },
        {
          "output_type": "stream",
          "name": "stderr",
          "text": [
            "Client Local Training: 100%|██████████| 10/10 [00:39<00:00,  3.92s/it]\n"
          ]
        },
        {
          "output_type": "stream",
          "name": "stdout",
          "text": [
            "Average Local Accuracy (Round 27): 99.54%\n",
            "Global Accuracy (Round 27): 31.35%\n",
            "--- Federated Round: 28/50 ---\n"
          ]
        },
        {
          "output_type": "stream",
          "name": "stderr",
          "text": [
            "Client Local Training: 100%|██████████| 10/10 [00:39<00:00,  3.95s/it]\n"
          ]
        },
        {
          "output_type": "stream",
          "name": "stdout",
          "text": [
            "Average Local Accuracy (Round 28): 99.66%\n",
            "Global Accuracy (Round 28): 30.79%\n",
            "--- Federated Round: 29/50 ---\n"
          ]
        },
        {
          "output_type": "stream",
          "name": "stderr",
          "text": [
            "Client Local Training: 100%|██████████| 10/10 [00:39<00:00,  3.95s/it]\n"
          ]
        },
        {
          "output_type": "stream",
          "name": "stdout",
          "text": [
            "Average Local Accuracy (Round 29): 98.88%\n",
            "Global Accuracy (Round 29): 32.99%\n",
            "--- Federated Round: 30/50 ---\n"
          ]
        },
        {
          "output_type": "stream",
          "name": "stderr",
          "text": [
            "Client Local Training: 100%|██████████| 10/10 [00:38<00:00,  3.87s/it]\n"
          ]
        },
        {
          "output_type": "stream",
          "name": "stdout",
          "text": [
            "Average Local Accuracy (Round 30): 99.74%\n",
            "Global Accuracy (Round 30): 31.78%\n",
            "--- Federated Round: 31/50 ---\n"
          ]
        },
        {
          "output_type": "stream",
          "name": "stderr",
          "text": [
            "Client Local Training: 100%|██████████| 10/10 [00:39<00:00,  3.92s/it]\n"
          ]
        },
        {
          "output_type": "stream",
          "name": "stdout",
          "text": [
            "Average Local Accuracy (Round 31): 99.71%\n",
            "Global Accuracy (Round 31): 30.65%\n",
            "--- Federated Round: 32/50 ---\n"
          ]
        },
        {
          "output_type": "stream",
          "name": "stderr",
          "text": [
            "Client Local Training: 100%|██████████| 10/10 [00:40<00:00,  4.05s/it]\n"
          ]
        },
        {
          "output_type": "stream",
          "name": "stdout",
          "text": [
            "Average Local Accuracy (Round 32): 94.97%\n",
            "Global Accuracy (Round 32): 29.65%\n",
            "--- Federated Round: 33/50 ---\n"
          ]
        },
        {
          "output_type": "stream",
          "name": "stderr",
          "text": [
            "Client Local Training: 100%|██████████| 10/10 [00:39<00:00,  3.95s/it]\n"
          ]
        },
        {
          "output_type": "stream",
          "name": "stdout",
          "text": [
            "Average Local Accuracy (Round 33): 99.64%\n",
            "Global Accuracy (Round 33): 31.27%\n",
            "--- Federated Round: 34/50 ---\n"
          ]
        },
        {
          "output_type": "stream",
          "name": "stderr",
          "text": [
            "Client Local Training: 100%|██████████| 10/10 [00:39<00:00,  3.93s/it]\n"
          ]
        },
        {
          "output_type": "stream",
          "name": "stdout",
          "text": [
            "Average Local Accuracy (Round 34): 99.81%\n",
            "Global Accuracy (Round 34): 31.99%\n",
            "--- Federated Round: 35/50 ---\n"
          ]
        },
        {
          "output_type": "stream",
          "name": "stderr",
          "text": [
            "Client Local Training: 100%|██████████| 10/10 [00:40<00:00,  4.03s/it]\n"
          ]
        },
        {
          "output_type": "stream",
          "name": "stdout",
          "text": [
            "Average Local Accuracy (Round 35): 99.79%\n",
            "Global Accuracy (Round 35): 32.20%\n",
            "--- Federated Round: 36/50 ---\n"
          ]
        },
        {
          "output_type": "stream",
          "name": "stderr",
          "text": [
            "Client Local Training: 100%|██████████| 10/10 [00:39<00:00,  3.99s/it]\n"
          ]
        },
        {
          "output_type": "stream",
          "name": "stdout",
          "text": [
            "Average Local Accuracy (Round 36): 99.76%\n",
            "Global Accuracy (Round 36): 34.02%\n",
            "--- Federated Round: 37/50 ---\n"
          ]
        },
        {
          "output_type": "stream",
          "name": "stderr",
          "text": [
            "Client Local Training: 100%|██████████| 10/10 [00:39<00:00,  3.96s/it]\n"
          ]
        },
        {
          "output_type": "stream",
          "name": "stdout",
          "text": [
            "Average Local Accuracy (Round 37): 99.81%\n",
            "Global Accuracy (Round 37): 32.80%\n",
            "--- Federated Round: 38/50 ---\n"
          ]
        },
        {
          "output_type": "stream",
          "name": "stderr",
          "text": [
            "Client Local Training: 100%|██████████| 10/10 [00:38<00:00,  3.90s/it]\n"
          ]
        },
        {
          "output_type": "stream",
          "name": "stdout",
          "text": [
            "Average Local Accuracy (Round 38): 99.77%\n",
            "Global Accuracy (Round 38): 36.29%\n",
            "--- Federated Round: 39/50 ---\n"
          ]
        },
        {
          "output_type": "stream",
          "name": "stderr",
          "text": [
            "Client Local Training: 100%|██████████| 10/10 [00:39<00:00,  3.90s/it]\n"
          ]
        },
        {
          "output_type": "stream",
          "name": "stdout",
          "text": [
            "Average Local Accuracy (Round 39): 99.79%\n",
            "Global Accuracy (Round 39): 34.19%\n",
            "--- Federated Round: 40/50 ---\n"
          ]
        },
        {
          "output_type": "stream",
          "name": "stderr",
          "text": [
            "Client Local Training: 100%|██████████| 10/10 [00:39<00:00,  3.93s/it]\n"
          ]
        },
        {
          "output_type": "stream",
          "name": "stdout",
          "text": [
            "Average Local Accuracy (Round 40): 99.76%\n",
            "Global Accuracy (Round 40): 35.32%\n",
            "--- Federated Round: 41/50 ---\n"
          ]
        },
        {
          "output_type": "stream",
          "name": "stderr",
          "text": [
            "Client Local Training: 100%|██████████| 10/10 [00:40<00:00,  4.00s/it]\n"
          ]
        },
        {
          "output_type": "stream",
          "name": "stdout",
          "text": [
            "Average Local Accuracy (Round 41): 99.83%\n",
            "Global Accuracy (Round 41): 37.58%\n",
            "--- Federated Round: 42/50 ---\n"
          ]
        },
        {
          "output_type": "stream",
          "name": "stderr",
          "text": [
            "Client Local Training: 100%|██████████| 10/10 [00:38<00:00,  3.87s/it]\n"
          ]
        },
        {
          "output_type": "stream",
          "name": "stdout",
          "text": [
            "Average Local Accuracy (Round 42): 99.80%\n",
            "Global Accuracy (Round 42): 34.87%\n",
            "--- Federated Round: 43/50 ---\n"
          ]
        },
        {
          "output_type": "stream",
          "name": "stderr",
          "text": [
            "Client Local Training: 100%|██████████| 10/10 [00:39<00:00,  3.94s/it]\n"
          ]
        },
        {
          "output_type": "stream",
          "name": "stdout",
          "text": [
            "Average Local Accuracy (Round 43): 99.85%\n",
            "Global Accuracy (Round 43): 37.34%\n",
            "--- Federated Round: 44/50 ---\n"
          ]
        },
        {
          "output_type": "stream",
          "name": "stderr",
          "text": [
            "Client Local Training: 100%|██████████| 10/10 [00:39<00:00,  3.93s/it]\n"
          ]
        },
        {
          "output_type": "stream",
          "name": "stdout",
          "text": [
            "Average Local Accuracy (Round 44): 99.79%\n",
            "Global Accuracy (Round 44): 36.74%\n",
            "--- Federated Round: 45/50 ---\n"
          ]
        },
        {
          "output_type": "stream",
          "name": "stderr",
          "text": [
            "Client Local Training: 100%|██████████| 10/10 [00:39<00:00,  3.92s/it]\n"
          ]
        },
        {
          "output_type": "stream",
          "name": "stdout",
          "text": [
            "Average Local Accuracy (Round 45): 99.85%\n",
            "Global Accuracy (Round 45): 41.94%\n",
            "--- Federated Round: 46/50 ---\n"
          ]
        },
        {
          "output_type": "stream",
          "name": "stderr",
          "text": [
            "Client Local Training: 100%|██████████| 10/10 [00:38<00:00,  3.89s/it]\n"
          ]
        },
        {
          "output_type": "stream",
          "name": "stdout",
          "text": [
            "Average Local Accuracy (Round 46): 99.86%\n",
            "Global Accuracy (Round 46): 38.52%\n",
            "--- Federated Round: 47/50 ---\n"
          ]
        },
        {
          "output_type": "stream",
          "name": "stderr",
          "text": [
            "Client Local Training: 100%|██████████| 10/10 [00:39<00:00,  3.91s/it]\n"
          ]
        },
        {
          "output_type": "stream",
          "name": "stdout",
          "text": [
            "Average Local Accuracy (Round 47): 94.84%\n",
            "Global Accuracy (Round 47): 34.77%\n",
            "--- Federated Round: 48/50 ---\n"
          ]
        },
        {
          "output_type": "stream",
          "name": "stderr",
          "text": [
            "Client Local Training: 100%|██████████| 10/10 [00:40<00:00,  4.03s/it]\n"
          ]
        },
        {
          "output_type": "stream",
          "name": "stdout",
          "text": [
            "Average Local Accuracy (Round 48): 99.60%\n",
            "Global Accuracy (Round 48): 41.58%\n",
            "--- Federated Round: 49/50 ---\n"
          ]
        },
        {
          "output_type": "stream",
          "name": "stderr",
          "text": [
            "Client Local Training: 100%|██████████| 10/10 [00:39<00:00,  3.95s/it]\n"
          ]
        },
        {
          "output_type": "stream",
          "name": "stdout",
          "text": [
            "Average Local Accuracy (Round 49): 99.85%\n",
            "Global Accuracy (Round 49): 38.96%\n",
            "--- Federated Round: 50/50 ---\n"
          ]
        },
        {
          "output_type": "stream",
          "name": "stderr",
          "text": [
            "Client Local Training: 100%|██████████| 10/10 [00:39<00:00,  3.94s/it]\n"
          ]
        },
        {
          "output_type": "stream",
          "name": "stdout",
          "text": [
            "Average Local Accuracy (Round 50): 99.84%\n",
            "Global Accuracy (Round 50): 40.76%\n",
            "\n",
            "--- Final Results Comparison ---\n",
            "Accuracy History (Zero-Padding): ['14.15%', '14.07%', '29.49%', '34.76%', '37.50%', '39.80%', '39.42%', '42.28%', '42.01%', '44.60%', '42.02%', '43.28%', '45.27%', '41.59%', '42.83%', '42.11%', '42.90%', '42.65%', '41.19%', '43.95%', '42.01%', '43.63%', '44.67%', '44.46%', '39.76%', '45.82%', '47.53%', '47.60%', '45.96%', '47.12%', '47.26%', '47.72%', '48.83%', '46.55%', '49.56%', '50.18%', '48.53%', '48.77%', '49.82%', '48.76%', '50.00%', '49.94%', '49.83%', '48.36%', '50.46%', '48.35%', '50.03%', '46.47%', '50.23%', '46.12%']\n",
            "Accuracy History (Weighted Averaging): ['20.67%', '24.92%', '23.81%', '24.59%', '25.86%', '25.08%', '27.39%', '25.41%', '27.28%', '25.13%', '27.91%', '25.12%', '24.38%', '27.74%', '28.05%', '30.60%', '31.27%', '33.42%', '31.53%', '30.32%', '31.57%', '31.62%', '31.16%', '32.58%', '30.87%', '30.63%', '31.35%', '30.79%', '32.99%', '31.78%', '30.65%', '29.65%', '31.27%', '31.99%', '32.20%', '34.02%', '32.80%', '36.29%', '34.19%', '35.32%', '37.58%', '34.87%', '37.34%', '36.74%', '41.94%', '38.52%', '34.77%', '41.58%', '38.96%', '40.76%']\n"
          ]
        }
      ]
    }
  ]
}