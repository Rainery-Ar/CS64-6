{
  "nbformat": 4,
  "nbformat_minor": 0,
  "metadata": {
    "colab": {
      "provenance": []
    },
    "kernelspec": {
      "name": "python3",
      "display_name": "Python 3"
    },
    "language_info": {
      "name": "python"
    }
  },
  "cells": [
    {
      "cell_type": "code",
      "source": [
        "import numpy as np\n",
        "\n",
        "# Set up parameters for the LoRA matrices\n",
        "d, k = 100, 100\n",
        "r_max = 3\n",
        "np.random.seed(42)\n",
        "\n",
        "# Create a common basis for all clients\n",
        "U_base, S_base_full, Vt_base = np.linalg.svd(np.random.rand(d, k))\n",
        "U_base = U_base[:, :r_max]\n",
        "Vt_base = Vt_base[:r_max, :]\n",
        "\n",
        "# Create singular values for each client (r=1, r=2, r=3)\n",
        "S_A = np.random.rand(1)\n",
        "S_B = np.random.rand(2)\n",
        "S_C = np.random.rand(3)\n",
        "\n",
        "# Define client weights\n",
        "w_A, w_B, w_C = 0.2, 0.5, 0.3\n",
        "\n",
        "# --- Aggregation Method 1: Aggregate Singular Values (SVD-based) ---\n",
        "\n",
        "# Pad singular values with zeros\n",
        "S_A_padded = np.zeros(r_max)\n",
        "S_A_padded[:1] = S_A\n",
        "S_B_padded = np.zeros(r_max)\n",
        "S_B_padded[:2] = S_B\n",
        "S_C_padded = S_C\n",
        "\n",
        "# Compute the aggregated singular values\n",
        "S_agg_svd = w_A * S_A_padded + w_B * S_B_padded + w_C * S_C_padded\n",
        "\n",
        "# Reconstruct the final LoRA matrix\n",
        "final_lora_agg_svd = U_base @ np.diag(S_agg_svd) @ Vt_base\n",
        "\n",
        "# --- Aggregation Method 2: Aggregate Full Matrices (Parameter-based) ---\n",
        "\n",
        "# Construct full LoRA matrices for each client from B and A\n",
        "B_A = U_base[:, :1]\n",
        "A_A = np.diag(S_A) @ Vt_base[:1, :]\n",
        "\n",
        "B_B = U_base[:, :2]\n",
        "A_B = np.diag(S_B) @ Vt_base[:2, :]\n",
        "\n",
        "B_C = U_base\n",
        "A_C = np.diag(S_C) @ Vt_base\n",
        "\n",
        "lora_matrix_A = B_A @ A_A\n",
        "lora_matrix_B = B_B @ A_B\n",
        "lora_matrix_C = B_C @ A_C\n",
        "\n",
        "# Compute the ideal aggregated matrix\n",
        "ideal_agg_matrix = w_A * lora_matrix_A + w_B * lora_matrix_B + w_C * lora_matrix_C\n",
        "\n",
        "# --- Verification for Task 1 ---\n",
        "\n",
        "# Compare the results of the two aggregation methods\n",
        "is_equal = np.allclose(final_lora_agg_svd, ideal_agg_matrix, atol=1e-8)\n",
        "print(f\"Are the two aggregation results equivalent? {is_equal}\")"
      ],
      "metadata": {
        "colab": {
          "base_uri": "https://localhost:8080/"
        },
        "id": "VsxFCO0oC1HH",
        "outputId": "5da5cf44-80b3-434d-ccc0-4e7944024d76"
      },
      "execution_count": 11,
      "outputs": [
        {
          "output_type": "stream",
          "name": "stdout",
          "text": [
            "Are the two aggregation results equivalent? True\n"
          ]
        }
      ]
    },
    {
      "cell_type": "code",
      "source": [
        "# --- SVD Verification for Task 2 ---\n",
        "\n",
        "# Use the result from Task 1 as the sample matrix\n",
        "sample_matrix = final_lora_agg_svd\n",
        "\n",
        "# Perform SVD decomposition\n",
        "U_svd, S_svd, Vt_svd = np.linalg.svd(sample_matrix)\n",
        "\n",
        "# Reconstruct the matrix from SVD components\n",
        "S_matrix = np.zeros_like(sample_matrix, dtype=float)\n",
        "S_matrix[:S_svd.shape[0], :S_svd.shape[0]] = np.diag(S_svd)\n",
        "reconstructed_matrix = U_svd @ S_matrix @ Vt_svd\n",
        "\n",
        "# Verify that the reconstruction is correct\n",
        "is_reconstruction_correct = np.allclose(sample_matrix, reconstructed_matrix, atol=1e-8)\n",
        "print(f\"Is the SVD reconstruction correct? {is_reconstruction_correct}\")"
      ],
      "metadata": {
        "colab": {
          "base_uri": "https://localhost:8080/"
        },
        "id": "KfQL9duvC2n5",
        "outputId": "960d3c6b-906c-4031-cef7-9a1aea35169c"
      },
      "execution_count": 12,
      "outputs": [
        {
          "output_type": "stream",
          "name": "stdout",
          "text": [
            "Is the SVD reconstruction correct? True\n"
          ]
        }
      ]
    }
  ]
}